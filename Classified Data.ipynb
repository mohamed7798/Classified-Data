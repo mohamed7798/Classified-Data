{
 "cells": [
  {
   "cell_type": "code",
   "execution_count": 1,
   "id": "c2fc21f1",
   "metadata": {},
   "outputs": [],
   "source": [
    "import pandas as pd\n",
    "import numpy as np\n",
    "import seaborn as sns\n",
    "import matplotlib.pyplot as plt\n",
    "import math as m "
   ]
  },
  {
   "cell_type": "code",
   "execution_count": 4,
   "id": "534bbbfb",
   "metadata": {},
   "outputs": [
    {
     "data": {
      "text/html": [
       "<div>\n",
       "<style scoped>\n",
       "    .dataframe tbody tr th:only-of-type {\n",
       "        vertical-align: middle;\n",
       "    }\n",
       "\n",
       "    .dataframe tbody tr th {\n",
       "        vertical-align: top;\n",
       "    }\n",
       "\n",
       "    .dataframe thead th {\n",
       "        text-align: right;\n",
       "    }\n",
       "</style>\n",
       "<table border=\"1\" class=\"dataframe\">\n",
       "  <thead>\n",
       "    <tr style=\"text-align: right;\">\n",
       "      <th></th>\n",
       "      <th>WTT</th>\n",
       "      <th>PTI</th>\n",
       "      <th>EQW</th>\n",
       "      <th>SBI</th>\n",
       "      <th>LQE</th>\n",
       "      <th>QWG</th>\n",
       "      <th>FDJ</th>\n",
       "      <th>PJF</th>\n",
       "      <th>HQE</th>\n",
       "      <th>NXJ</th>\n",
       "      <th>TARGET CLASS</th>\n",
       "    </tr>\n",
       "  </thead>\n",
       "  <tbody>\n",
       "    <tr>\n",
       "      <th>0</th>\n",
       "      <td>0.913917</td>\n",
       "      <td>1.162073</td>\n",
       "      <td>0.567946</td>\n",
       "      <td>0.755464</td>\n",
       "      <td>0.780862</td>\n",
       "      <td>0.352608</td>\n",
       "      <td>0.759697</td>\n",
       "      <td>0.643798</td>\n",
       "      <td>0.879422</td>\n",
       "      <td>1.231409</td>\n",
       "      <td>1</td>\n",
       "    </tr>\n",
       "    <tr>\n",
       "      <th>1</th>\n",
       "      <td>0.635632</td>\n",
       "      <td>1.003722</td>\n",
       "      <td>0.535342</td>\n",
       "      <td>0.825645</td>\n",
       "      <td>0.924109</td>\n",
       "      <td>0.648450</td>\n",
       "      <td>0.675334</td>\n",
       "      <td>1.013546</td>\n",
       "      <td>0.621552</td>\n",
       "      <td>1.492702</td>\n",
       "      <td>0</td>\n",
       "    </tr>\n",
       "    <tr>\n",
       "      <th>2</th>\n",
       "      <td>0.721360</td>\n",
       "      <td>1.201493</td>\n",
       "      <td>0.921990</td>\n",
       "      <td>0.855595</td>\n",
       "      <td>1.526629</td>\n",
       "      <td>0.720781</td>\n",
       "      <td>1.626351</td>\n",
       "      <td>1.154483</td>\n",
       "      <td>0.957877</td>\n",
       "      <td>1.285597</td>\n",
       "      <td>0</td>\n",
       "    </tr>\n",
       "    <tr>\n",
       "      <th>3</th>\n",
       "      <td>1.234204</td>\n",
       "      <td>1.386726</td>\n",
       "      <td>0.653046</td>\n",
       "      <td>0.825624</td>\n",
       "      <td>1.142504</td>\n",
       "      <td>0.875128</td>\n",
       "      <td>1.409708</td>\n",
       "      <td>1.380003</td>\n",
       "      <td>1.522692</td>\n",
       "      <td>1.153093</td>\n",
       "      <td>1</td>\n",
       "    </tr>\n",
       "    <tr>\n",
       "      <th>4</th>\n",
       "      <td>1.279491</td>\n",
       "      <td>0.949750</td>\n",
       "      <td>0.627280</td>\n",
       "      <td>0.668976</td>\n",
       "      <td>1.232537</td>\n",
       "      <td>0.703727</td>\n",
       "      <td>1.115596</td>\n",
       "      <td>0.646691</td>\n",
       "      <td>1.463812</td>\n",
       "      <td>1.419167</td>\n",
       "      <td>1</td>\n",
       "    </tr>\n",
       "    <tr>\n",
       "      <th>...</th>\n",
       "      <td>...</td>\n",
       "      <td>...</td>\n",
       "      <td>...</td>\n",
       "      <td>...</td>\n",
       "      <td>...</td>\n",
       "      <td>...</td>\n",
       "      <td>...</td>\n",
       "      <td>...</td>\n",
       "      <td>...</td>\n",
       "      <td>...</td>\n",
       "      <td>...</td>\n",
       "    </tr>\n",
       "    <tr>\n",
       "      <th>995</th>\n",
       "      <td>1.010953</td>\n",
       "      <td>1.034006</td>\n",
       "      <td>0.853116</td>\n",
       "      <td>0.622460</td>\n",
       "      <td>1.036610</td>\n",
       "      <td>0.586240</td>\n",
       "      <td>0.746811</td>\n",
       "      <td>0.319752</td>\n",
       "      <td>1.117340</td>\n",
       "      <td>1.348517</td>\n",
       "      <td>1</td>\n",
       "    </tr>\n",
       "    <tr>\n",
       "      <th>996</th>\n",
       "      <td>0.575529</td>\n",
       "      <td>0.955786</td>\n",
       "      <td>0.941835</td>\n",
       "      <td>0.792882</td>\n",
       "      <td>1.414277</td>\n",
       "      <td>1.269540</td>\n",
       "      <td>1.055928</td>\n",
       "      <td>0.713193</td>\n",
       "      <td>0.958684</td>\n",
       "      <td>1.663489</td>\n",
       "      <td>0</td>\n",
       "    </tr>\n",
       "    <tr>\n",
       "      <th>997</th>\n",
       "      <td>1.135470</td>\n",
       "      <td>0.982462</td>\n",
       "      <td>0.781905</td>\n",
       "      <td>0.916738</td>\n",
       "      <td>0.901031</td>\n",
       "      <td>0.884738</td>\n",
       "      <td>0.386802</td>\n",
       "      <td>0.389584</td>\n",
       "      <td>0.919191</td>\n",
       "      <td>1.385504</td>\n",
       "      <td>1</td>\n",
       "    </tr>\n",
       "    <tr>\n",
       "      <th>998</th>\n",
       "      <td>1.084894</td>\n",
       "      <td>0.861769</td>\n",
       "      <td>0.407158</td>\n",
       "      <td>0.665696</td>\n",
       "      <td>1.608612</td>\n",
       "      <td>0.943859</td>\n",
       "      <td>0.855806</td>\n",
       "      <td>1.061338</td>\n",
       "      <td>1.277456</td>\n",
       "      <td>1.188063</td>\n",
       "      <td>1</td>\n",
       "    </tr>\n",
       "    <tr>\n",
       "      <th>999</th>\n",
       "      <td>0.837460</td>\n",
       "      <td>0.961184</td>\n",
       "      <td>0.417006</td>\n",
       "      <td>0.799784</td>\n",
       "      <td>0.934399</td>\n",
       "      <td>0.424762</td>\n",
       "      <td>0.778234</td>\n",
       "      <td>0.907962</td>\n",
       "      <td>1.257190</td>\n",
       "      <td>1.364837</td>\n",
       "      <td>1</td>\n",
       "    </tr>\n",
       "  </tbody>\n",
       "</table>\n",
       "<p>1000 rows × 11 columns</p>\n",
       "</div>"
      ],
      "text/plain": [
       "          WTT       PTI       EQW       SBI       LQE       QWG       FDJ  \\\n",
       "0    0.913917  1.162073  0.567946  0.755464  0.780862  0.352608  0.759697   \n",
       "1    0.635632  1.003722  0.535342  0.825645  0.924109  0.648450  0.675334   \n",
       "2    0.721360  1.201493  0.921990  0.855595  1.526629  0.720781  1.626351   \n",
       "3    1.234204  1.386726  0.653046  0.825624  1.142504  0.875128  1.409708   \n",
       "4    1.279491  0.949750  0.627280  0.668976  1.232537  0.703727  1.115596   \n",
       "..        ...       ...       ...       ...       ...       ...       ...   \n",
       "995  1.010953  1.034006  0.853116  0.622460  1.036610  0.586240  0.746811   \n",
       "996  0.575529  0.955786  0.941835  0.792882  1.414277  1.269540  1.055928   \n",
       "997  1.135470  0.982462  0.781905  0.916738  0.901031  0.884738  0.386802   \n",
       "998  1.084894  0.861769  0.407158  0.665696  1.608612  0.943859  0.855806   \n",
       "999  0.837460  0.961184  0.417006  0.799784  0.934399  0.424762  0.778234   \n",
       "\n",
       "          PJF       HQE       NXJ  TARGET CLASS  \n",
       "0    0.643798  0.879422  1.231409             1  \n",
       "1    1.013546  0.621552  1.492702             0  \n",
       "2    1.154483  0.957877  1.285597             0  \n",
       "3    1.380003  1.522692  1.153093             1  \n",
       "4    0.646691  1.463812  1.419167             1  \n",
       "..        ...       ...       ...           ...  \n",
       "995  0.319752  1.117340  1.348517             1  \n",
       "996  0.713193  0.958684  1.663489             0  \n",
       "997  0.389584  0.919191  1.385504             1  \n",
       "998  1.061338  1.277456  1.188063             1  \n",
       "999  0.907962  1.257190  1.364837             1  \n",
       "\n",
       "[1000 rows x 11 columns]"
      ]
     },
     "execution_count": 4,
     "metadata": {},
     "output_type": "execute_result"
    }
   ],
   "source": [
    "df = pd.read_csv('E:/ML and DL/ML/Data_csv/Classified Data',index_col=0)\n",
    "df"
   ]
  },
  {
   "cell_type": "code",
   "execution_count": 5,
   "id": "edcd84e2",
   "metadata": {},
   "outputs": [
    {
     "data": {
      "text/plain": [
       "WTT             float64\n",
       "PTI             float64\n",
       "EQW             float64\n",
       "SBI             float64\n",
       "LQE             float64\n",
       "QWG             float64\n",
       "FDJ             float64\n",
       "PJF             float64\n",
       "HQE             float64\n",
       "NXJ             float64\n",
       "TARGET CLASS      int64\n",
       "dtype: object"
      ]
     },
     "execution_count": 5,
     "metadata": {},
     "output_type": "execute_result"
    }
   ],
   "source": [
    "df.dtypes"
   ]
  },
  {
   "cell_type": "code",
   "execution_count": 6,
   "id": "1122a9b1",
   "metadata": {},
   "outputs": [
    {
     "data": {
      "text/html": [
       "<div>\n",
       "<style scoped>\n",
       "    .dataframe tbody tr th:only-of-type {\n",
       "        vertical-align: middle;\n",
       "    }\n",
       "\n",
       "    .dataframe tbody tr th {\n",
       "        vertical-align: top;\n",
       "    }\n",
       "\n",
       "    .dataframe thead th {\n",
       "        text-align: right;\n",
       "    }\n",
       "</style>\n",
       "<table border=\"1\" class=\"dataframe\">\n",
       "  <thead>\n",
       "    <tr style=\"text-align: right;\">\n",
       "      <th></th>\n",
       "      <th>count</th>\n",
       "      <th>mean</th>\n",
       "      <th>std</th>\n",
       "      <th>min</th>\n",
       "      <th>25%</th>\n",
       "      <th>50%</th>\n",
       "      <th>75%</th>\n",
       "      <th>max</th>\n",
       "    </tr>\n",
       "  </thead>\n",
       "  <tbody>\n",
       "    <tr>\n",
       "      <th>WTT</th>\n",
       "      <td>1000.0</td>\n",
       "      <td>0.949682</td>\n",
       "      <td>0.289635</td>\n",
       "      <td>0.174412</td>\n",
       "      <td>0.742358</td>\n",
       "      <td>0.940475</td>\n",
       "      <td>1.163295</td>\n",
       "      <td>1.721779</td>\n",
       "    </tr>\n",
       "    <tr>\n",
       "      <th>PTI</th>\n",
       "      <td>1000.0</td>\n",
       "      <td>1.114303</td>\n",
       "      <td>0.257085</td>\n",
       "      <td>0.441398</td>\n",
       "      <td>0.942071</td>\n",
       "      <td>1.118486</td>\n",
       "      <td>1.307904</td>\n",
       "      <td>1.833757</td>\n",
       "    </tr>\n",
       "    <tr>\n",
       "      <th>EQW</th>\n",
       "      <td>1000.0</td>\n",
       "      <td>0.834127</td>\n",
       "      <td>0.291554</td>\n",
       "      <td>0.170924</td>\n",
       "      <td>0.615451</td>\n",
       "      <td>0.813264</td>\n",
       "      <td>1.028340</td>\n",
       "      <td>1.722725</td>\n",
       "    </tr>\n",
       "    <tr>\n",
       "      <th>SBI</th>\n",
       "      <td>1000.0</td>\n",
       "      <td>0.682099</td>\n",
       "      <td>0.229645</td>\n",
       "      <td>0.045027</td>\n",
       "      <td>0.515010</td>\n",
       "      <td>0.676835</td>\n",
       "      <td>0.834317</td>\n",
       "      <td>1.634884</td>\n",
       "    </tr>\n",
       "    <tr>\n",
       "      <th>LQE</th>\n",
       "      <td>1000.0</td>\n",
       "      <td>1.032336</td>\n",
       "      <td>0.243413</td>\n",
       "      <td>0.315307</td>\n",
       "      <td>0.870855</td>\n",
       "      <td>1.035824</td>\n",
       "      <td>1.198270</td>\n",
       "      <td>1.650050</td>\n",
       "    </tr>\n",
       "    <tr>\n",
       "      <th>QWG</th>\n",
       "      <td>1000.0</td>\n",
       "      <td>0.943534</td>\n",
       "      <td>0.256121</td>\n",
       "      <td>0.262389</td>\n",
       "      <td>0.761064</td>\n",
       "      <td>0.941502</td>\n",
       "      <td>1.123060</td>\n",
       "      <td>1.666902</td>\n",
       "    </tr>\n",
       "    <tr>\n",
       "      <th>FDJ</th>\n",
       "      <td>1000.0</td>\n",
       "      <td>0.963422</td>\n",
       "      <td>0.255118</td>\n",
       "      <td>0.295228</td>\n",
       "      <td>0.784407</td>\n",
       "      <td>0.945333</td>\n",
       "      <td>1.134852</td>\n",
       "      <td>1.713342</td>\n",
       "    </tr>\n",
       "    <tr>\n",
       "      <th>PJF</th>\n",
       "      <td>1000.0</td>\n",
       "      <td>1.071960</td>\n",
       "      <td>0.288982</td>\n",
       "      <td>0.299476</td>\n",
       "      <td>0.866306</td>\n",
       "      <td>1.065500</td>\n",
       "      <td>1.283156</td>\n",
       "      <td>1.785420</td>\n",
       "    </tr>\n",
       "    <tr>\n",
       "      <th>HQE</th>\n",
       "      <td>1000.0</td>\n",
       "      <td>1.158251</td>\n",
       "      <td>0.293738</td>\n",
       "      <td>0.365157</td>\n",
       "      <td>0.934340</td>\n",
       "      <td>1.165556</td>\n",
       "      <td>1.383173</td>\n",
       "      <td>1.885690</td>\n",
       "    </tr>\n",
       "    <tr>\n",
       "      <th>NXJ</th>\n",
       "      <td>1000.0</td>\n",
       "      <td>1.362725</td>\n",
       "      <td>0.204225</td>\n",
       "      <td>0.639693</td>\n",
       "      <td>1.222623</td>\n",
       "      <td>1.375368</td>\n",
       "      <td>1.504832</td>\n",
       "      <td>1.893950</td>\n",
       "    </tr>\n",
       "    <tr>\n",
       "      <th>TARGET CLASS</th>\n",
       "      <td>1000.0</td>\n",
       "      <td>0.500000</td>\n",
       "      <td>0.500250</td>\n",
       "      <td>0.000000</td>\n",
       "      <td>0.000000</td>\n",
       "      <td>0.500000</td>\n",
       "      <td>1.000000</td>\n",
       "      <td>1.000000</td>\n",
       "    </tr>\n",
       "  </tbody>\n",
       "</table>\n",
       "</div>"
      ],
      "text/plain": [
       "               count      mean       std       min       25%       50%  \\\n",
       "WTT           1000.0  0.949682  0.289635  0.174412  0.742358  0.940475   \n",
       "PTI           1000.0  1.114303  0.257085  0.441398  0.942071  1.118486   \n",
       "EQW           1000.0  0.834127  0.291554  0.170924  0.615451  0.813264   \n",
       "SBI           1000.0  0.682099  0.229645  0.045027  0.515010  0.676835   \n",
       "LQE           1000.0  1.032336  0.243413  0.315307  0.870855  1.035824   \n",
       "QWG           1000.0  0.943534  0.256121  0.262389  0.761064  0.941502   \n",
       "FDJ           1000.0  0.963422  0.255118  0.295228  0.784407  0.945333   \n",
       "PJF           1000.0  1.071960  0.288982  0.299476  0.866306  1.065500   \n",
       "HQE           1000.0  1.158251  0.293738  0.365157  0.934340  1.165556   \n",
       "NXJ           1000.0  1.362725  0.204225  0.639693  1.222623  1.375368   \n",
       "TARGET CLASS  1000.0  0.500000  0.500250  0.000000  0.000000  0.500000   \n",
       "\n",
       "                   75%       max  \n",
       "WTT           1.163295  1.721779  \n",
       "PTI           1.307904  1.833757  \n",
       "EQW           1.028340  1.722725  \n",
       "SBI           0.834317  1.634884  \n",
       "LQE           1.198270  1.650050  \n",
       "QWG           1.123060  1.666902  \n",
       "FDJ           1.134852  1.713342  \n",
       "PJF           1.283156  1.785420  \n",
       "HQE           1.383173  1.885690  \n",
       "NXJ           1.504832  1.893950  \n",
       "TARGET CLASS  1.000000  1.000000  "
      ]
     },
     "execution_count": 6,
     "metadata": {},
     "output_type": "execute_result"
    }
   ],
   "source": [
    "df.describe(include = 'all').T"
   ]
  },
  {
   "cell_type": "code",
   "execution_count": 7,
   "id": "ba20a732",
   "metadata": {},
   "outputs": [
    {
     "data": {
      "text/plain": [
       "<AxesSubplot:>"
      ]
     },
     "execution_count": 7,
     "metadata": {},
     "output_type": "execute_result"
    },
    {
     "data": {
      "image/png": "[encoded data removed]",
      "text/plain": [
       "<Figure size 432x288 with 2 Axes>"
      ]
     },
     "metadata": {
      "needs_background": "light"
     },
     "output_type": "display_data"
    }
   ],
   "source": [
    "sns.heatmap(df.isnull(),cmap = 'viridis')"
   ]
  },
  {
   "cell_type": "code",
   "execution_count": 8,
   "id": "04e9d815",
   "metadata": {},
   "outputs": [
    {
     "data": {
      "text/plain": [
       "WTT             0\n",
       "PTI             0\n",
       "EQW             0\n",
       "SBI             0\n",
       "LQE             0\n",
       "QWG             0\n",
       "FDJ             0\n",
       "PJF             0\n",
       "HQE             0\n",
       "NXJ             0\n",
       "TARGET CLASS    0\n",
       "dtype: int64"
      ]
     },
     "execution_count": 8,
     "metadata": {},
     "output_type": "execute_result"
    }
   ],
   "source": [
    "df.isna().sum()"
   ]
  },
  {
   "cell_type": "code",
   "execution_count": 9,
   "id": "ab986ae9",
   "metadata": {},
   "outputs": [
    {
     "data": {
      "text/plain": [
       "0"
      ]
     },
     "execution_count": 9,
     "metadata": {},
     "output_type": "execute_result"
    }
   ],
   "source": [
    "df.duplicated().sum()"
   ]
  },
  {
   "cell_type": "code",
   "execution_count": 11,
   "id": "fd5b184e",
   "metadata": {},
   "outputs": [
    {
     "data": {
      "text/html": [
       "<div>\n",
       "<style scoped>\n",
       "    .dataframe tbody tr th:only-of-type {\n",
       "        vertical-align: middle;\n",
       "    }\n",
       "\n",
       "    .dataframe tbody tr th {\n",
       "        vertical-align: top;\n",
       "    }\n",
       "\n",
       "    .dataframe thead th {\n",
       "        text-align: right;\n",
       "    }\n",
       "</style>\n",
       "<table border=\"1\" class=\"dataframe\">\n",
       "  <thead>\n",
       "    <tr style=\"text-align: right;\">\n",
       "      <th></th>\n",
       "      <th>WTT</th>\n",
       "      <th>PTI</th>\n",
       "      <th>EQW</th>\n",
       "      <th>SBI</th>\n",
       "      <th>LQE</th>\n",
       "      <th>QWG</th>\n",
       "      <th>FDJ</th>\n",
       "      <th>PJF</th>\n",
       "      <th>HQE</th>\n",
       "      <th>NXJ</th>\n",
       "      <th>TARGET CLASS</th>\n",
       "    </tr>\n",
       "  </thead>\n",
       "  <tbody>\n",
       "    <tr>\n",
       "      <th>0</th>\n",
       "      <td>0.913917</td>\n",
       "      <td>1.162073</td>\n",
       "      <td>0.567946</td>\n",
       "      <td>0.755464</td>\n",
       "      <td>0.780862</td>\n",
       "      <td>0.352608</td>\n",
       "      <td>0.759697</td>\n",
       "      <td>0.643798</td>\n",
       "      <td>0.879422</td>\n",
       "      <td>1.231409</td>\n",
       "      <td>1</td>\n",
       "    </tr>\n",
       "    <tr>\n",
       "      <th>1</th>\n",
       "      <td>0.635632</td>\n",
       "      <td>1.003722</td>\n",
       "      <td>0.535342</td>\n",
       "      <td>0.825645</td>\n",
       "      <td>0.924109</td>\n",
       "      <td>0.648450</td>\n",
       "      <td>0.675334</td>\n",
       "      <td>1.013546</td>\n",
       "      <td>0.621552</td>\n",
       "      <td>1.492702</td>\n",
       "      <td>0</td>\n",
       "    </tr>\n",
       "    <tr>\n",
       "      <th>2</th>\n",
       "      <td>0.721360</td>\n",
       "      <td>1.201493</td>\n",
       "      <td>0.921990</td>\n",
       "      <td>0.855595</td>\n",
       "      <td>1.526629</td>\n",
       "      <td>0.720781</td>\n",
       "      <td>1.626351</td>\n",
       "      <td>1.154483</td>\n",
       "      <td>0.957877</td>\n",
       "      <td>1.285597</td>\n",
       "      <td>0</td>\n",
       "    </tr>\n",
       "    <tr>\n",
       "      <th>3</th>\n",
       "      <td>1.234204</td>\n",
       "      <td>1.386726</td>\n",
       "      <td>0.653046</td>\n",
       "      <td>0.825624</td>\n",
       "      <td>1.142504</td>\n",
       "      <td>0.875128</td>\n",
       "      <td>1.409708</td>\n",
       "      <td>1.380003</td>\n",
       "      <td>1.522692</td>\n",
       "      <td>1.153093</td>\n",
       "      <td>1</td>\n",
       "    </tr>\n",
       "    <tr>\n",
       "      <th>4</th>\n",
       "      <td>1.279491</td>\n",
       "      <td>0.949750</td>\n",
       "      <td>0.627280</td>\n",
       "      <td>0.668976</td>\n",
       "      <td>1.232537</td>\n",
       "      <td>0.703727</td>\n",
       "      <td>1.115596</td>\n",
       "      <td>0.646691</td>\n",
       "      <td>1.463812</td>\n",
       "      <td>1.419167</td>\n",
       "      <td>1</td>\n",
       "    </tr>\n",
       "  </tbody>\n",
       "</table>\n",
       "</div>"
      ],
      "text/plain": [
       "        WTT       PTI       EQW       SBI       LQE       QWG       FDJ  \\\n",
       "0  0.913917  1.162073  0.567946  0.755464  0.780862  0.352608  0.759697   \n",
       "1  0.635632  1.003722  0.535342  0.825645  0.924109  0.648450  0.675334   \n",
       "2  0.721360  1.201493  0.921990  0.855595  1.526629  0.720781  1.626351   \n",
       "3  1.234204  1.386726  0.653046  0.825624  1.142504  0.875128  1.409708   \n",
       "4  1.279491  0.949750  0.627280  0.668976  1.232537  0.703727  1.115596   \n",
       "\n",
       "        PJF       HQE       NXJ  TARGET CLASS  \n",
       "0  0.643798  0.879422  1.231409             1  \n",
       "1  1.013546  0.621552  1.492702             0  \n",
       "2  1.154483  0.957877  1.285597             0  \n",
       "3  1.380003  1.522692  1.153093             1  \n",
       "4  0.646691  1.463812  1.419167             1  "
      ]
     },
     "execution_count": 11,
     "metadata": {},
     "output_type": "execute_result"
    }
   ],
   "source": [
    "df.head()"
   ]
  },
  {
   "cell_type": "code",
   "execution_count": 12,
   "id": "4dde735f",
   "metadata": {},
   "outputs": [
    {
     "name": "stdout",
     "output_type": "stream",
     "text": [
      "number of outliers in WTT :  0\n",
      "number of outliers in PTI :  0\n",
      "number of outliers in EQW :  3\n",
      "number of outliers in SBI :  6\n",
      "number of outliers in LQE :  2\n",
      "number of outliers in QWG :  1\n",
      "number of outliers in FDJ :  3\n",
      "number of outliers in PJF :  0\n",
      "number of outliers in HQE :  0\n",
      "number of outliers in NXJ :  7\n"
     ]
    }
   ],
   "source": [
    "from datasist.structdata import detect_outliers\n",
    "\n",
    "feature_df = df[['WTT','PTI','EQW','SBI','LQE','QWG','FDJ','PJF','HQE','NXJ']]\n",
    "\n",
    "for col in feature_df:\n",
    "    outliers = detect_outliers(df,0,[col])\n",
    "    print(f'number of outliers in {col} : ',len(outliers))"
   ]
  },
  {
   "cell_type": "code",
   "execution_count": 13,
   "id": "d2dea300",
   "metadata": {},
   "outputs": [
    {
     "name": "stderr",
     "output_type": "stream",
     "text": [
      "C:\\Users\\DELL\\anaconda3\\lib\\site-packages\\pandas\\core\\indexing.py:1732: SettingWithCopyWarning: \n",
      "A value is trying to be set on a copy of a slice from a DataFrame\n",
      "\n",
      "See the caveats in the documentation: https://pandas.pydata.org/pandas-docs/stable/user_guide/indexing.html#returning-a-view-versus-a-copy\n",
      "  self._setitem_single_block(indexer, value, name)\n"
     ]
    }
   ],
   "source": [
    "for col in feature_df:\n",
    "    if col == 'TARGET CLASS':\n",
    "        pass\n",
    "    else:\n",
    "        outliers = detect_outliers(df,0,[col])\n",
    "        col_median = df[col].median()\n",
    "        df[col].iloc[outliers] = col_median"
   ]
  },
  {
   "cell_type": "code",
   "execution_count": 14,
   "id": "c21e55ba",
   "metadata": {},
   "outputs": [
    {
     "name": "stdout",
     "output_type": "stream",
     "text": [
      "number of outliers in WTT :  0\n",
      "number of outliers in PTI :  0\n",
      "number of outliers in EQW :  0\n",
      "number of outliers in SBI :  2\n",
      "number of outliers in LQE :  0\n",
      "number of outliers in QWG :  0\n",
      "number of outliers in FDJ :  1\n",
      "number of outliers in PJF :  0\n",
      "number of outliers in HQE :  0\n",
      "number of outliers in NXJ :  0\n"
     ]
    }
   ],
   "source": [
    "for col in feature_df:\n",
    "    outliers = detect_outliers(df,0,[col])\n",
    "    print(f'number of outliers in {col} : ',len(outliers))"
   ]
  },
  {
   "cell_type": "code",
   "execution_count": 15,
   "id": "e10f4914",
   "metadata": {},
   "outputs": [
    {
     "data": {
      "text/plain": [
       "1    500\n",
       "0    500\n",
       "Name: TARGET CLASS, dtype: int64"
      ]
     },
     "execution_count": 15,
     "metadata": {},
     "output_type": "execute_result"
    }
   ],
   "source": [
    "df['TARGET CLASS'].value_counts()"
   ]
  },
  {
   "cell_type": "code",
   "execution_count": 16,
   "id": "0052d2f6",
   "metadata": {},
   "outputs": [
    {
     "data": {
      "text/plain": [
       "1    50.0\n",
       "0    50.0\n",
       "Name: TARGET CLASS, dtype: float64"
      ]
     },
     "execution_count": 16,
     "metadata": {},
     "output_type": "execute_result"
    }
   ],
   "source": [
    "df['TARGET CLASS'].value_counts() * 100 / len(df)"
   ]
  },
  {
   "cell_type": "code",
   "execution_count": 17,
   "id": "015ce0fe",
   "metadata": {},
   "outputs": [
    {
     "data": {
      "text/plain": [
       "<AxesSubplot:>"
      ]
     },
     "execution_count": 17,
     "metadata": {},
     "output_type": "execute_result"
    },
    {
     "data": {
      "image/png": "[encoded data removed]",
      "text/plain": [
       "<Figure size 432x288 with 1 Axes>"
      ]
     },
     "metadata": {
      "needs_background": "light"
     },
     "output_type": "display_data"
    }
   ],
   "source": [
    "df['TARGET CLASS'].value_counts().plot(kind = 'bar')"
   ]
  },
  {
   "cell_type": "code",
   "execution_count": 18,
   "id": "239fbfb7",
   "metadata": {},
   "outputs": [
    {
     "data": {
      "text/html": [
       "<div>\n",
       "<style scoped>\n",
       "    .dataframe tbody tr th:only-of-type {\n",
       "        vertical-align: middle;\n",
       "    }\n",
       "\n",
       "    .dataframe tbody tr th {\n",
       "        vertical-align: top;\n",
       "    }\n",
       "\n",
       "    .dataframe thead th {\n",
       "        text-align: right;\n",
       "    }\n",
       "</style>\n",
       "<table border=\"1\" class=\"dataframe\">\n",
       "  <thead>\n",
       "    <tr style=\"text-align: right;\">\n",
       "      <th></th>\n",
       "      <th>WTT</th>\n",
       "      <th>PTI</th>\n",
       "      <th>EQW</th>\n",
       "      <th>SBI</th>\n",
       "      <th>LQE</th>\n",
       "      <th>QWG</th>\n",
       "      <th>FDJ</th>\n",
       "      <th>PJF</th>\n",
       "      <th>HQE</th>\n",
       "      <th>NXJ</th>\n",
       "      <th>TARGET CLASS</th>\n",
       "    </tr>\n",
       "  </thead>\n",
       "  <tbody>\n",
       "    <tr>\n",
       "      <th>0</th>\n",
       "      <td>0.913917</td>\n",
       "      <td>1.162073</td>\n",
       "      <td>0.567946</td>\n",
       "      <td>0.755464</td>\n",
       "      <td>0.780862</td>\n",
       "      <td>0.352608</td>\n",
       "      <td>0.759697</td>\n",
       "      <td>0.643798</td>\n",
       "      <td>0.879422</td>\n",
       "      <td>1.231409</td>\n",
       "      <td>1</td>\n",
       "    </tr>\n",
       "    <tr>\n",
       "      <th>1</th>\n",
       "      <td>0.635632</td>\n",
       "      <td>1.003722</td>\n",
       "      <td>0.535342</td>\n",
       "      <td>0.825645</td>\n",
       "      <td>0.924109</td>\n",
       "      <td>0.648450</td>\n",
       "      <td>0.675334</td>\n",
       "      <td>1.013546</td>\n",
       "      <td>0.621552</td>\n",
       "      <td>1.492702</td>\n",
       "      <td>0</td>\n",
       "    </tr>\n",
       "    <tr>\n",
       "      <th>2</th>\n",
       "      <td>0.721360</td>\n",
       "      <td>1.201493</td>\n",
       "      <td>0.921990</td>\n",
       "      <td>0.855595</td>\n",
       "      <td>1.526629</td>\n",
       "      <td>0.720781</td>\n",
       "      <td>1.626351</td>\n",
       "      <td>1.154483</td>\n",
       "      <td>0.957877</td>\n",
       "      <td>1.285597</td>\n",
       "      <td>0</td>\n",
       "    </tr>\n",
       "    <tr>\n",
       "      <th>3</th>\n",
       "      <td>1.234204</td>\n",
       "      <td>1.386726</td>\n",
       "      <td>0.653046</td>\n",
       "      <td>0.825624</td>\n",
       "      <td>1.142504</td>\n",
       "      <td>0.875128</td>\n",
       "      <td>1.409708</td>\n",
       "      <td>1.380003</td>\n",
       "      <td>1.522692</td>\n",
       "      <td>1.153093</td>\n",
       "      <td>1</td>\n",
       "    </tr>\n",
       "    <tr>\n",
       "      <th>4</th>\n",
       "      <td>1.279491</td>\n",
       "      <td>0.949750</td>\n",
       "      <td>0.627280</td>\n",
       "      <td>0.668976</td>\n",
       "      <td>1.232537</td>\n",
       "      <td>0.703727</td>\n",
       "      <td>1.115596</td>\n",
       "      <td>0.646691</td>\n",
       "      <td>1.463812</td>\n",
       "      <td>1.419167</td>\n",
       "      <td>1</td>\n",
       "    </tr>\n",
       "  </tbody>\n",
       "</table>\n",
       "</div>"
      ],
      "text/plain": [
       "        WTT       PTI       EQW       SBI       LQE       QWG       FDJ  \\\n",
       "0  0.913917  1.162073  0.567946  0.755464  0.780862  0.352608  0.759697   \n",
       "1  0.635632  1.003722  0.535342  0.825645  0.924109  0.648450  0.675334   \n",
       "2  0.721360  1.201493  0.921990  0.855595  1.526629  0.720781  1.626351   \n",
       "3  1.234204  1.386726  0.653046  0.825624  1.142504  0.875128  1.409708   \n",
       "4  1.279491  0.949750  0.627280  0.668976  1.232537  0.703727  1.115596   \n",
       "\n",
       "        PJF       HQE       NXJ  TARGET CLASS  \n",
       "0  0.643798  0.879422  1.231409             1  \n",
       "1  1.013546  0.621552  1.492702             0  \n",
       "2  1.154483  0.957877  1.285597             0  \n",
       "3  1.380003  1.522692  1.153093             1  \n",
       "4  0.646691  1.463812  1.419167             1  "
      ]
     },
     "execution_count": 18,
     "metadata": {},
     "output_type": "execute_result"
    }
   ],
   "source": [
    "df.head()"
   ]
  },
  {
   "cell_type": "code",
   "execution_count": 19,
   "id": "2849bb32",
   "metadata": {},
   "outputs": [],
   "source": [
    "from sklearn.preprocessing import StandardScaler\n",
    "scaler = StandardScaler()\n",
    "columns = ['WTT','PTI','EQW','SBI','LQE','QWG','FDJ','PJF','HQE','NXJ']\n",
    "df[columns] = scaler.fit_transform(df[columns])"
   ]
  },
  {
   "cell_type": "code",
   "execution_count": 20,
   "id": "a6b82f1c",
   "metadata": {},
   "outputs": [
    {
     "data": {
      "text/html": [
       "<div>\n",
       "<style scoped>\n",
       "    .dataframe tbody tr th:only-of-type {\n",
       "        vertical-align: middle;\n",
       "    }\n",
       "\n",
       "    .dataframe tbody tr th {\n",
       "        vertical-align: top;\n",
       "    }\n",
       "\n",
       "    .dataframe thead th {\n",
       "        text-align: right;\n",
       "    }\n",
       "</style>\n",
       "<table border=\"1\" class=\"dataframe\">\n",
       "  <thead>\n",
       "    <tr style=\"text-align: right;\">\n",
       "      <th></th>\n",
       "      <th>WTT</th>\n",
       "      <th>PTI</th>\n",
       "      <th>EQW</th>\n",
       "      <th>SBI</th>\n",
       "      <th>LQE</th>\n",
       "      <th>QWG</th>\n",
       "      <th>FDJ</th>\n",
       "      <th>PJF</th>\n",
       "      <th>HQE</th>\n",
       "      <th>NXJ</th>\n",
       "      <th>TARGET CLASS</th>\n",
       "    </tr>\n",
       "  </thead>\n",
       "  <tbody>\n",
       "    <tr>\n",
       "      <th>0</th>\n",
       "      <td>-0.123542</td>\n",
       "      <td>0.185907</td>\n",
       "      <td>-0.916368</td>\n",
       "      <td>0.354429</td>\n",
       "      <td>-1.048006</td>\n",
       "      <td>-2.314810</td>\n",
       "      <td>-0.799916</td>\n",
       "      <td>-1.482368</td>\n",
       "      <td>-0.949719</td>\n",
       "      <td>-0.691037</td>\n",
       "      <td>1</td>\n",
       "    </tr>\n",
       "    <tr>\n",
       "      <th>1</th>\n",
       "      <td>-1.084836</td>\n",
       "      <td>-0.430348</td>\n",
       "      <td>-1.029729</td>\n",
       "      <td>0.672375</td>\n",
       "      <td>-0.454331</td>\n",
       "      <td>-1.154495</td>\n",
       "      <td>-1.134798</td>\n",
       "      <td>-0.202240</td>\n",
       "      <td>-1.828051</td>\n",
       "      <td>0.637280</td>\n",
       "      <td>0</td>\n",
       "    </tr>\n",
       "    <tr>\n",
       "      <th>2</th>\n",
       "      <td>-0.788702</td>\n",
       "      <td>0.339318</td>\n",
       "      <td>0.314635</td>\n",
       "      <td>0.808061</td>\n",
       "      <td>2.042757</td>\n",
       "      <td>-0.870810</td>\n",
       "      <td>2.640317</td>\n",
       "      <td>0.285707</td>\n",
       "      <td>-0.682494</td>\n",
       "      <td>-0.415568</td>\n",
       "      <td>0</td>\n",
       "    </tr>\n",
       "    <tr>\n",
       "      <th>3</th>\n",
       "      <td>0.982841</td>\n",
       "      <td>1.060193</td>\n",
       "      <td>-0.620475</td>\n",
       "      <td>0.672283</td>\n",
       "      <td>0.450784</td>\n",
       "      <td>-0.265450</td>\n",
       "      <td>1.780341</td>\n",
       "      <td>1.066491</td>\n",
       "      <td>1.241325</td>\n",
       "      <td>-1.089171</td>\n",
       "      <td>1</td>\n",
       "    </tr>\n",
       "    <tr>\n",
       "      <th>4</th>\n",
       "      <td>1.139275</td>\n",
       "      <td>-0.640392</td>\n",
       "      <td>-0.710064</td>\n",
       "      <td>-0.037393</td>\n",
       "      <td>0.823920</td>\n",
       "      <td>-0.937694</td>\n",
       "      <td>0.612844</td>\n",
       "      <td>-1.472352</td>\n",
       "      <td>1.040772</td>\n",
       "      <td>0.263454</td>\n",
       "      <td>1</td>\n",
       "    </tr>\n",
       "  </tbody>\n",
       "</table>\n",
       "</div>"
      ],
      "text/plain": [
       "        WTT       PTI       EQW       SBI       LQE       QWG       FDJ  \\\n",
       "0 -0.123542  0.185907 -0.916368  0.354429 -1.048006 -2.314810 -0.799916   \n",
       "1 -1.084836 -0.430348 -1.029729  0.672375 -0.454331 -1.154495 -1.134798   \n",
       "2 -0.788702  0.339318  0.314635  0.808061  2.042757 -0.870810  2.640317   \n",
       "3  0.982841  1.060193 -0.620475  0.672283  0.450784 -0.265450  1.780341   \n",
       "4  1.139275 -0.640392 -0.710064 -0.037393  0.823920 -0.937694  0.612844   \n",
       "\n",
       "        PJF       HQE       NXJ  TARGET CLASS  \n",
       "0 -1.482368 -0.949719 -0.691037             1  \n",
       "1 -0.202240 -1.828051  0.637280             0  \n",
       "2  0.285707 -0.682494 -0.415568             0  \n",
       "3  1.066491  1.241325 -1.089171             1  \n",
       "4 -1.472352  1.040772  0.263454             1  "
      ]
     },
     "execution_count": 20,
     "metadata": {},
     "output_type": "execute_result"
    }
   ],
   "source": [
    "df.head()"
   ]
  },
  {
   "cell_type": "code",
   "execution_count": 21,
   "id": "2248164a",
   "metadata": {},
   "outputs": [],
   "source": [
    "feature_df = df[['WTT','PTI','EQW','SBI','LQE','QWG','FDJ','PJF','HQE','NXJ']]\n",
    "x = np.asarray(feature_df)\n",
    "y = np.asarray(df['TARGET CLASS'])"
   ]
  },
  {
   "cell_type": "code",
   "execution_count": 22,
   "id": "c1e2d95c",
   "metadata": {},
   "outputs": [],
   "source": [
    "from sklearn.model_selection import train_test_split\n",
    "x_train,x_test,y_train,y_test = train_test_split(x,y,test_size = 0.3)"
   ]
  },
  {
   "cell_type": "code",
   "execution_count": 23,
   "id": "7a18f5ae",
   "metadata": {},
   "outputs": [
    {
     "name": "stdout",
     "output_type": "stream",
     "text": [
      "[[147   9]\n",
      " [  5 139]]\n",
      "              precision    recall  f1-score   support\n",
      "\n",
      "           0       0.97      0.94      0.95       156\n",
      "           1       0.94      0.97      0.95       144\n",
      "\n",
      "    accuracy                           0.95       300\n",
      "   macro avg       0.95      0.95      0.95       300\n",
      "weighted avg       0.95      0.95      0.95       300\n",
      "\n"
     ]
    }
   ],
   "source": [
    "from sklearn.linear_model import LogisticRegression\n",
    "from sklearn.metrics import confusion_matrix,classification_report\n",
    "log_model = LogisticRegression()\n",
    "log_model.fit(x_train,y_train)\n",
    "y_pred = log_model.predict(x_test)\n",
    "print(confusion_matrix(y_test,y_pred))\n",
    "print(classification_report(y_test,y_pred))"
   ]
  },
  {
   "cell_type": "code",
   "execution_count": 24,
   "id": "5c0d5fb9",
   "metadata": {},
   "outputs": [
    {
     "name": "stdout",
     "output_type": "stream",
     "text": [
      "0.8566666666666667\n",
      "[[131  25]\n",
      " [ 18 126]]\n",
      "              precision    recall  f1-score   support\n",
      "\n",
      "           0       0.88      0.84      0.86       156\n",
      "           1       0.83      0.88      0.85       144\n",
      "\n",
      "    accuracy                           0.86       300\n",
      "   macro avg       0.86      0.86      0.86       300\n",
      "weighted avg       0.86      0.86      0.86       300\n",
      "\n"
     ]
    }
   ],
   "source": [
    "from sklearn.tree import DecisionTreeClassifier\n",
    "from sklearn.metrics import accuracy_score\n",
    "dt = DecisionTreeClassifier(random_state=0, max_depth=2)\n",
    "dt.fit(x_train, y_train)\n",
    "y_pred = dt.predict(x_test)\n",
    "print(accuracy_score(y_test,y_pred))\n",
    "print(confusion_matrix(y_test,y_pred))\n",
    "print(classification_report(y_test,y_pred))"
   ]
  },
  {
   "cell_type": "code",
   "execution_count": 25,
   "id": "6a655c92",
   "metadata": {},
   "outputs": [
    {
     "name": "stdout",
     "output_type": "stream",
     "text": [
      "where k is = 1\n",
      "accuracy is 0.9133333333333333\n",
      "------------------------------\n",
      "where k is = 2\n",
      "accuracy is 0.92\n",
      "------------------------------\n",
      "where k is = 3\n",
      "accuracy is 0.93\n",
      "------------------------------\n",
      "where k is = 4\n",
      "accuracy is 0.9333333333333333\n",
      "------------------------------\n",
      "where k is = 5\n",
      "accuracy is 0.9366666666666666\n",
      "------------------------------\n",
      "where k is = 6\n",
      "accuracy is 0.95\n",
      "------------------------------\n",
      "where k is = 7\n",
      "accuracy is 0.9466666666666667\n",
      "------------------------------\n",
      "where k is = 8\n",
      "accuracy is 0.9566666666666667\n",
      "------------------------------\n",
      "where k is = 9\n",
      "accuracy is 0.9466666666666667\n",
      "------------------------------\n",
      "where k is = 26\n",
      "accuracy is 0.9466666666666667\n",
      "------------------------------\n"
     ]
    }
   ],
   "source": [
    "from sklearn.neighbors import KNeighborsClassifier\n",
    "from sklearn.metrics import accuracy_score\n",
    "k = [1,2,3,4,5,6,7,8,9,int(m.sqrt(len(x_train)))]\n",
    "for item in k :\n",
    "    print(f'where k is = {item}')\n",
    "    model = KNeighborsClassifier(n_neighbors = item)\n",
    "    model.fit(x_train,y_train)\n",
    "    y_pred = model.predict(x_test)\n",
    "    print('accuracy is {}'.format(accuracy_score(y_test,y_pred)))\n",
    "    print('-'*30)"
   ]
  },
  {
   "cell_type": "code",
   "execution_count": 26,
   "id": "5a0396d0",
   "metadata": {},
   "outputs": [
    {
     "name": "stdout",
     "output_type": "stream",
     "text": [
      "0.9566666666666667\n",
      "[[148   8]\n",
      " [  5 139]]\n",
      "              precision    recall  f1-score   support\n",
      "\n",
      "           0       0.97      0.95      0.96       156\n",
      "           1       0.95      0.97      0.96       144\n",
      "\n",
      "    accuracy                           0.96       300\n",
      "   macro avg       0.96      0.96      0.96       300\n",
      "weighted avg       0.96      0.96      0.96       300\n",
      "\n"
     ]
    }
   ],
   "source": [
    "model = KNeighborsClassifier(n_neighbors = 8)\n",
    "model.fit(x_train,y_train)\n",
    "y_pred = model.predict(x_test)\n",
    "print(accuracy_score(y_test,y_pred))\n",
    "print(confusion_matrix(y_test,y_pred))\n",
    "print(classification_report(y_test,y_pred))"
   ]
  },
  {
   "cell_type": "code",
   "execution_count": 27,
   "id": "4e1295c4",
   "metadata": {},
   "outputs": [
    {
     "name": "stdout",
     "output_type": "stream",
     "text": [
      "91.66666666666666\n",
      "[[139  17]\n",
      " [  8 136]]\n",
      "              precision    recall  f1-score   support\n",
      "\n",
      "           0       0.95      0.89      0.92       156\n",
      "           1       0.89      0.94      0.92       144\n",
      "\n",
      "    accuracy                           0.92       300\n",
      "   macro avg       0.92      0.92      0.92       300\n",
      "weighted avg       0.92      0.92      0.92       300\n",
      "\n"
     ]
    }
   ],
   "source": [
    "from sklearn.ensemble import RandomForestClassifier\n",
    "clf = RandomForestClassifier(max_depth=2, random_state=0)\n",
    "clf.fit(x_train, y_train)\n",
    "y_pred = clf.predict(x_test)\n",
    "print(accuracy_score(y_test,y_pred) * 100)\n",
    "print(confusion_matrix(y_test,y_pred))\n",
    "print(classification_report(y_test,y_pred))"
   ]
  },
  {
   "cell_type": "code",
   "execution_count": 28,
   "id": "271723a8",
   "metadata": {},
   "outputs": [
    {
     "name": "stdout",
     "output_type": "stream",
     "text": [
      "kernel is linear\n",
      "accuracy_score is : 0.9533333333333334\n",
      "kernel is poly\n",
      "accuracy_score is : 0.6166666666666667\n",
      "kernel is rbf\n",
      "accuracy_score is : 0.94\n",
      "kernel is sigmoid\n",
      "accuracy_score is : 0.95\n"
     ]
    }
   ],
   "source": [
    "from sklearn.svm import SVC\n",
    "kernel = ['linear','poly','rbf','sigmoid']\n",
    "for item in kernel:\n",
    "    print(f'kernel is {item}')\n",
    "    if item == 'poly':\n",
    "        model = SVC(kernel = item,degree = 2)\n",
    "        model.fit(x_train,y_train)\n",
    "        y_pred = model.predict(x_test)\n",
    "        print('accuracy_score is :',accuracy_score(y_test,y_pred))\n",
    "    elif item == 'rbf':\n",
    "        model = SVC(kernel = item,degree = 4)\n",
    "        model.fit(x_train,y_train)\n",
    "        y_pred = model.predict(x_test)\n",
    "        print('accuracy_score is :',accuracy_score(y_test,y_pred))\n",
    "    else :\n",
    "        model = SVC(kernel = item)\n",
    "        model.fit(x_train,y_train)\n",
    "        y_pred = model.predict(x_test)\n",
    "        print('accuracy_score is :',accuracy_score(y_test,y_pred))"
   ]
  },
  {
   "cell_type": "code",
   "execution_count": 30,
   "id": "acb5f6fe",
   "metadata": {},
   "outputs": [
    {
     "name": "stdout",
     "output_type": "stream",
     "text": [
      "95.33333333333334\n",
      "[[147   9]\n",
      " [  5 139]]\n",
      "              precision    recall  f1-score   support\n",
      "\n",
      "           0       0.97      0.94      0.95       156\n",
      "           1       0.94      0.97      0.95       144\n",
      "\n",
      "    accuracy                           0.95       300\n",
      "   macro avg       0.95      0.95      0.95       300\n",
      "weighted avg       0.95      0.95      0.95       300\n",
      "\n"
     ]
    }
   ],
   "source": [
    "model = SVC(kernel = 'linear')\n",
    "model.fit(x_train,y_train)\n",
    "y_pred = model.predict(x_test)\n",
    "print(accuracy_score(y_test,y_pred) * 100)\n",
    "print(confusion_matrix(y_test,y_pred))\n",
    "print(classification_report(y_test,y_pred))"
   ]
  },
  {
   "cell_type": "code",
   "execution_count": 31,
   "id": "609b3290",
   "metadata": {},
   "outputs": [
    {
     "name": "stdout",
     "output_type": "stream",
     "text": [
      "Best score (accuracy): 0.9357142857142856\n",
      "Mean precision: 0.9179678773099826\n",
      "Mean recall: 0.9609602795358796\n",
      "Best parametes: {'metric': 'chebyshev', 'n_neighbors': 10, 'weights': 'distance'}\n"
     ]
    },
    {
     "data": {
      "text/html": [
       "<style>#sk-container-id-1 {color: black;background-color: white;}#sk-container-id-1 pre{padding: 0;}#sk-container-id-1 div.sk-toggleable {background-color: white;}#sk-container-id-1 label.sk-toggleable__label {cursor: pointer;display: block;width: 100%;margin-bottom: 0;padding: 0.3em;box-sizing: border-box;text-align: center;}#sk-container-id-1 label.sk-toggleable__label-arrow:before {content: \"▸\";float: left;margin-right: 0.25em;color: #696969;}#sk-container-id-1 label.sk-toggleable__label-arrow:hover:before {color: black;}#sk-container-id-1 div.sk-estimator:hover label.sk-toggleable__label-arrow:before {color: black;}#sk-container-id-1 div.sk-toggleable__content {max-height: 0;max-width: 0;overflow: hidden;text-align: left;background-color: #f0f8ff;}#sk-container-id-1 div.sk-toggleable__content pre {margin: 0.2em;color: black;border-radius: 0.25em;background-color: #f0f8ff;}#sk-container-id-1 input.sk-toggleable__control:checked~div.sk-toggleable__content {max-height: 200px;max-width: 100%;overflow: auto;}#sk-container-id-1 input.sk-toggleable__control:checked~label.sk-toggleable__label-arrow:before {content: \"▾\";}#sk-container-id-1 div.sk-estimator input.sk-toggleable__control:checked~label.sk-toggleable__label {background-color: #d4ebff;}#sk-container-id-1 div.sk-label input.sk-toggleable__control:checked~label.sk-toggleable__label {background-color: #d4ebff;}#sk-container-id-1 input.sk-hidden--visually {border: 0;clip: rect(1px 1px 1px 1px);clip: rect(1px, 1px, 1px, 1px);height: 1px;margin: -1px;overflow: hidden;padding: 0;position: absolute;width: 1px;}#sk-container-id-1 div.sk-estimator {font-family: monospace;background-color: #f0f8ff;border: 1px dotted black;border-radius: 0.25em;box-sizing: border-box;margin-bottom: 0.5em;}#sk-container-id-1 div.sk-estimator:hover {background-color: #d4ebff;}#sk-container-id-1 div.sk-parallel-item::after {content: \"\";width: 100%;border-bottom: 1px solid gray;flex-grow: 1;}#sk-container-id-1 div.sk-label:hover label.sk-toggleable__label {background-color: #d4ebff;}#sk-container-id-1 div.sk-serial::before {content: \"\";position: absolute;border-left: 1px solid gray;box-sizing: border-box;top: 0;bottom: 0;left: 50%;z-index: 0;}#sk-container-id-1 div.sk-serial {display: flex;flex-direction: column;align-items: center;background-color: white;padding-right: 0.2em;padding-left: 0.2em;position: relative;}#sk-container-id-1 div.sk-item {position: relative;z-index: 1;}#sk-container-id-1 div.sk-parallel {display: flex;align-items: stretch;justify-content: center;background-color: white;position: relative;}#sk-container-id-1 div.sk-item::before, #sk-container-id-1 div.sk-parallel-item::before {content: \"\";position: absolute;border-left: 1px solid gray;box-sizing: border-box;top: 0;bottom: 0;left: 50%;z-index: -1;}#sk-container-id-1 div.sk-parallel-item {display: flex;flex-direction: column;z-index: 1;position: relative;background-color: white;}#sk-container-id-1 div.sk-parallel-item:first-child::after {align-self: flex-end;width: 50%;}#sk-container-id-1 div.sk-parallel-item:last-child::after {align-self: flex-start;width: 50%;}#sk-container-id-1 div.sk-parallel-item:only-child::after {width: 0;}#sk-container-id-1 div.sk-dashed-wrapped {border: 1px dashed gray;margin: 0 0.4em 0.5em 0.4em;box-sizing: border-box;padding-bottom: 0.4em;background-color: white;}#sk-container-id-1 div.sk-label label {font-family: monospace;font-weight: bold;display: inline-block;line-height: 1.2em;}#sk-container-id-1 div.sk-label-container {text-align: center;}#sk-container-id-1 div.sk-container {/* jupyter's `normalize.less` sets `[hidden] { display: none; }` but bootstrap.min.css set `[hidden] { display: none !important; }` so we also need the `!important` here to be able to override the default hidden behavior on the sphinx rendered scikit-learn.org. See: https://github.com/scikit-learn/scikit-learn/issues/21755 */display: inline-block !important;position: relative;}#sk-container-id-1 div.sk-text-repr-fallback {display: none;}</style><div id=\"sk-container-id-1\" class=\"sk-top-container\"><div class=\"sk-text-repr-fallback\"><pre>KNeighborsClassifier(metric=&#x27;chebyshev&#x27;, n_jobs=-1, n_neighbors=10,\n",
       "                     weights=&#x27;distance&#x27;)</pre><b>In a Jupyter environment, please rerun this cell to show the HTML representation or trust the notebook. <br />On GitHub, the HTML representation is unable to render, please try loading this page with nbviewer.org.</b></div><div class=\"sk-container\" hidden><div class=\"sk-item\"><div class=\"sk-estimator sk-toggleable\"><input class=\"sk-toggleable__control sk-hidden--visually\" id=\"sk-estimator-id-1\" type=\"checkbox\" checked><label for=\"sk-estimator-id-1\" class=\"sk-toggleable__label sk-toggleable__label-arrow\">KNeighborsClassifier</label><div class=\"sk-toggleable__content\"><pre>KNeighborsClassifier(metric=&#x27;chebyshev&#x27;, n_jobs=-1, n_neighbors=10,\n",
       "                     weights=&#x27;distance&#x27;)</pre></div></div></div></div></div>"
      ],
      "text/plain": [
       "KNeighborsClassifier(metric='chebyshev', n_jobs=-1, n_neighbors=10,\n",
       "                     weights='distance')"
      ]
     },
     "execution_count": 31,
     "metadata": {},
     "output_type": "execute_result"
    }
   ],
   "source": [
    "from sklearn.model_selection import GridSearchCV\n",
    "from sklearn.model_selection import KFold\n",
    "parameters = {'n_neighbors': [1, 2, 5, 10], 'weights': ['uniform', 'distance'], 'metric': ['manhattan', 'euclidean', 'chebyshev']}\n",
    "def grid_search(estimator, parameters, X, y):\n",
    "    \n",
    "    scoring = ['accuracy', 'precision', 'recall']\n",
    "    kf = KFold(5)\n",
    "    \n",
    "    clf = GridSearchCV(estimator, parameters, cv=kf, scoring=scoring, refit=\"accuracy\", n_jobs=-1)\n",
    "    clf.fit(X, y)\n",
    "    \n",
    "    i = clf.best_index_\n",
    "    best_precision = clf.cv_results_['mean_test_precision'][i]\n",
    "    best_recall = clf.cv_results_['mean_test_recall'][i]\n",
    "    \n",
    "    print('Best score (accuracy): {}'.format(clf.best_score_))\n",
    "    print('Mean precision: {}'.format(best_precision))\n",
    "    print('Mean recall: {}'.format(best_recall))\n",
    "    print('Best parametes: {}'.format(clf.best_params_))\n",
    "    \n",
    "    return clf.best_estimator_\n",
    "from sklearn.neighbors import KNeighborsClassifier\n",
    "grid_search(KNeighborsClassifier(n_jobs=-1),parameters,x_train,y_train)"
   ]
  },
  {
   "cell_type": "code",
   "execution_count": 32,
   "id": "60a7d464",
   "metadata": {},
   "outputs": [
    {
     "name": "stdout",
     "output_type": "stream",
     "text": [
      "94.0\n",
      "[[144  12]\n",
      " [  6 138]]\n",
      "              precision    recall  f1-score   support\n",
      "\n",
      "           0       0.96      0.92      0.94       156\n",
      "           1       0.92      0.96      0.94       144\n",
      "\n",
      "    accuracy                           0.94       300\n",
      "   macro avg       0.94      0.94      0.94       300\n",
      "weighted avg       0.94      0.94      0.94       300\n",
      "\n"
     ]
    }
   ],
   "source": [
    "knn = KNeighborsClassifier(metric = 'chebyshev', n_neighbors = 10, weights = 'distance')\n",
    "knn.fit(x_train,y_train)\n",
    "y_pred = knn.predict(x_test)\n",
    "print(accuracy_score(y_test,y_pred) * 100)\n",
    "print(confusion_matrix(y_test,y_pred))\n",
    "print(classification_report(y_test,y_pred))"
   ]
  },
  {
   "cell_type": "code",
   "execution_count": 38,
   "id": "a03ec4e1",
   "metadata": {},
   "outputs": [
    {
     "data": {
      "text/plain": [
       "{'C': 1, 'kernel': 'linear'}"
      ]
     },
     "execution_count": 38,
     "metadata": {},
     "output_type": "execute_result"
    }
   ],
   "source": [
    "from sklearn.svm import SVC\n",
    "clf = SVC()\n",
    "params = {'C':[1,5,7] ,'kernel':['linear','poly','rbf','sigmoid']}\n",
    "grid_search = GridSearchCV(clf,param_grid = params,scoring = 'accuracy',cv = 5)\n",
    "grid_search.fit(x_train,y_train)\n",
    "grid_search.best_params_"
   ]
  },
  {
   "cell_type": "code",
   "execution_count": 39,
   "id": "ac7edfc8",
   "metadata": {},
   "outputs": [
    {
     "name": "stdout",
     "output_type": "stream",
     "text": [
      "95.33333333333334\n",
      "[[147   9]\n",
      " [  5 139]]\n",
      "              precision    recall  f1-score   support\n",
      "\n",
      "           0       0.97      0.94      0.95       156\n",
      "           1       0.94      0.97      0.95       144\n",
      "\n",
      "    accuracy                           0.95       300\n",
      "   macro avg       0.95      0.95      0.95       300\n",
      "weighted avg       0.95      0.95      0.95       300\n",
      "\n"
     ]
    }
   ],
   "source": [
    "clf = SVC(C = 1, kernel = 'linear')\n",
    "clf.fit(x_train,y_train)\n",
    "y_pred = clf.predict(x_test)\n",
    "print(accuracy_score(y_test,y_pred) * 100)\n",
    "print(confusion_matrix(y_test,y_pred))\n",
    "print(classification_report(y_test,y_pred))"
   ]
  },
  {
   "cell_type": "code",
   "execution_count": 40,
   "id": "0829b58f",
   "metadata": {},
   "outputs": [
    {
     "data": {
      "text/plain": [
       "{'learning_rate': 0.01, 'n_estimators': 2000, 'random_state': 1}"
      ]
     },
     "execution_count": 40,
     "metadata": {},
     "output_type": "execute_result"
    }
   ],
   "source": [
    "from sklearn.ensemble import AdaBoostClassifier\n",
    "from sklearn.model_selection import KFold\n",
    "\n",
    "crossvalidation=KFold(n_splits=10,shuffle=True,random_state=1)\n",
    "ada=AdaBoostClassifier()\n",
    "search_grid={'n_estimators':[500,1000,2000],'learning_rate':[.001,0.01,.1],'random_state':[1]}\n",
    "search=GridSearchCV(estimator=ada,param_grid=search_grid,scoring='accuracy',n_jobs=1,cv=crossvalidation)\n",
    "search.fit(x_train,y_train)\n",
    "search.best_params_"
   ]
  },
  {
   "cell_type": "code",
   "execution_count": 41,
   "id": "b35b40be",
   "metadata": {},
   "outputs": [
    {
     "name": "stdout",
     "output_type": "stream",
     "text": [
      "94.0\n",
      "[[146  10]\n",
      " [  8 136]]\n",
      "              precision    recall  f1-score   support\n",
      "\n",
      "           0       0.95      0.94      0.94       156\n",
      "           1       0.93      0.94      0.94       144\n",
      "\n",
      "    accuracy                           0.94       300\n",
      "   macro avg       0.94      0.94      0.94       300\n",
      "weighted avg       0.94      0.94      0.94       300\n",
      "\n"
     ]
    }
   ],
   "source": [
    "ada = AdaBoostClassifier(learning_rate = 0.01, n_estimators = 2000, random_state = 1)\n",
    "ada.fit(x_train,y_train)\n",
    "y_pred = ada.predict(x_test)\n",
    "print(accuracy_score(y_test,y_pred) * 100)\n",
    "print(confusion_matrix(y_test,y_pred))\n",
    "print(classification_report(y_test,y_pred))"
   ]
  },
  {
   "cell_type": "code",
   "execution_count": 42,
   "id": "942f2b3a",
   "metadata": {},
   "outputs": [
    {
     "name": "stderr",
     "output_type": "stream",
     "text": [
      "C:\\Users\\DELL\\anaconda3\\lib\\site-packages\\sklearn\\model_selection\\_validation.py:378: FitFailedWarning: \n",
      "6 fits failed out of a total of 560.\n",
      "The score on these train-test partitions for these parameters will be set to nan.\n",
      "If these failures are not expected, you can try to debug them by setting error_score='raise'.\n",
      "\n",
      "Below are more details about the failures:\n",
      "--------------------------------------------------------------------------------\n",
      "1 fits failed with the following error:\n",
      "Traceback (most recent call last):\n",
      "  File \"C:\\Users\\DELL\\anaconda3\\lib\\site-packages\\sklearn\\model_selection\\_validation.py\", line 686, in _fit_and_score\n",
      "    estimator.fit(X_train, y_train, **fit_params)\n",
      "  File \"C:\\Users\\DELL\\anaconda3\\lib\\site-packages\\catboost\\core.py\", line 5007, in fit\n",
      "    self._fit(X, y, cat_features, text_features, embedding_features, None, sample_weight, None, None, None, None, baseline, use_best_model,\n",
      "  File \"C:\\Users\\DELL\\anaconda3\\lib\\site-packages\\catboost\\core.py\", line 2278, in _fit\n",
      "    self._train(\n",
      "  File \"C:\\Users\\DELL\\anaconda3\\lib\\site-packages\\catboost\\core.py\", line 1705, in _train\n",
      "    self._object._train(train_pool, test_pool, params, allow_clear_pool, init_model._object if init_model else None)\n",
      "  File \"_catboost.pyx\", line 4585, in _catboost._CatBoost._train\n",
      "  File \"_catboost.pyx\", line 4634, in _catboost._CatBoost._train\n",
      "_catboost.CatBoostError: C:/Program Files (x86)/Go Agent/pipelines/BuildMaster/catboost.git/catboost/libs/train_lib/dir_helper.cpp:26: Can't create train tmp dir: tmp\n",
      "\n",
      "--------------------------------------------------------------------------------\n",
      "5 fits failed with the following error:\n",
      "Traceback (most recent call last):\n",
      "  File \"C:\\Users\\DELL\\anaconda3\\lib\\site-packages\\sklearn\\model_selection\\_validation.py\", line 686, in _fit_and_score\n",
      "    estimator.fit(X_train, y_train, **fit_params)\n",
      "  File \"C:\\Users\\DELL\\anaconda3\\lib\\site-packages\\catboost\\core.py\", line 5007, in fit\n",
      "    self._fit(X, y, cat_features, text_features, embedding_features, None, sample_weight, None, None, None, None, baseline, use_best_model,\n",
      "  File \"C:\\Users\\DELL\\anaconda3\\lib\\site-packages\\catboost\\core.py\", line 2278, in _fit\n",
      "    self._train(\n",
      "  File \"C:\\Users\\DELL\\anaconda3\\lib\\site-packages\\catboost\\core.py\", line 1705, in _train\n",
      "    self._object._train(train_pool, test_pool, params, allow_clear_pool, init_model._object if init_model else None)\n",
      "  File \"_catboost.pyx\", line 4585, in _catboost._CatBoost._train\n",
      "  File \"_catboost.pyx\", line 4634, in _catboost._CatBoost._train\n",
      "_catboost.CatBoostError: C:/Program Files (x86)/Go Agent/pipelines/BuildMaster/catboost.git/catboost/libs/train_lib/dir_helper.cpp:20: Can't create train working dir: catboost_info\n",
      "\n",
      "  warnings.warn(some_fits_failed_message, FitFailedWarning)\n",
      "C:\\Users\\DELL\\anaconda3\\lib\\site-packages\\sklearn\\model_selection\\_search.py:953: UserWarning: One or more of the test scores are non-finite: [       nan        nan        nan        nan 0.88714286 0.87857143\n",
      " 0.89142857 0.88857143 0.88142857 0.88142857 0.90285714 0.90428571\n",
      " 0.88428571 0.88428571 0.89285714 0.89714286 0.88857143 0.88857143\n",
      " 0.89142857 0.9        0.88       0.89571429 0.89714286 0.91142857\n",
      " 0.89142857 0.90285714 0.90571429 0.91428571 0.89571429 0.9\n",
      " 0.90857143 0.91714286 0.89428571 0.90285714 0.91142857 0.91714286\n",
      " 0.89571429 0.90428571 0.91142857 0.91571429 0.88857143 0.89428571\n",
      " 0.90142857 0.89714286 0.9        0.89857143 0.90571429 0.90714286\n",
      " 0.89857143 0.89714286 0.90857143 0.90428571 0.90714286 0.90857143\n",
      " 0.91428571 0.91428571 0.90714286 0.91142857 0.91714286 0.91857143\n",
      " 0.90714286 0.91142857 0.91714286 0.91714286 0.90571429 0.91714286\n",
      " 0.92       0.91857143 0.91142857 0.91571429 0.91714286 0.91857143\n",
      " 0.91       0.91285714 0.91857143 0.91571429 0.90714286 0.91285714\n",
      " 0.91428571 0.91714286 0.89428571 0.89714286 0.89285714 0.89857143\n",
      " 0.90571429 0.9        0.90285714 0.9        0.90571429 0.90285714\n",
      " 0.90571429 0.90714286 0.90142857 0.90285714 0.90142857 0.91\n",
      " 0.90428571 0.90285714 0.90571429 0.90857143 0.90714286 0.90571429\n",
      " 0.90714286 0.91428571 0.91       0.91285714 0.90857143 0.91571429\n",
      " 0.91       0.91571429 0.91428571 0.91857143 0.91285714 0.91428571\n",
      " 0.91571429 0.91857143 0.91285714 0.91428571 0.91571429 0.92285714\n",
      " 0.89428571 0.90142857 0.89714286 0.90142857 0.89857143 0.91285714\n",
      " 0.90285714 0.90571429 0.89428571 0.9        0.90428571 0.90571429\n",
      " 0.89571429 0.90428571 0.90857143 0.91       0.90285714 0.90857143\n",
      " 0.91285714 0.91142857 0.90428571 0.91285714 0.91285714 0.91428571\n",
      " 0.91       0.91142857 0.91285714 0.91428571 0.91       0.91285714\n",
      " 0.91571429 0.91428571 0.91142857 0.91285714 0.91571429 0.91285714\n",
      " 0.90857143 0.91285714 0.91428571 0.91857143 0.9        0.9\n",
      " 0.89714286 0.90142857 0.91571429 0.91714286 0.91       0.91\n",
      " 0.90857143 0.91285714 0.91428571 0.91142857 0.90857143 0.91142857\n",
      " 0.90857143 0.91428571 0.90714286 0.91       0.91       0.91285714\n",
      " 0.91142857 0.91142857 0.91142857 0.91571429 0.91285714 0.91714286\n",
      " 0.91142857 0.91285714 0.91142857 0.91714286 0.91       0.91428571\n",
      " 0.91142857 0.91714286 0.91857143 0.91142857 0.91571429 0.92\n",
      " 0.91857143 0.91285714 0.90285714 0.89571429 0.90285714 0.9\n",
      " 0.91       0.91285714 0.90714286 0.91428571 0.90857143 0.91285714\n",
      " 0.90571429 0.90714286 0.91       0.91285714 0.90571429 0.91142857\n",
      " 0.90857143 0.91714286 0.90571429 0.90571429 0.90714286 0.91857143\n",
      " 0.91571429 0.91285714 0.91       0.91857143 0.91714286 0.91428571\n",
      " 0.91142857 0.91714286 0.91714286 0.91571429 0.91285714 0.91571429\n",
      " 0.92       0.91428571 0.91285714 0.91714286 0.91714286 0.91571429\n",
      " 0.90142857 0.90142857 0.90142857 0.90285714 0.90428571 0.90857143\n",
      " 0.90714286 0.91       0.9        0.90857143 0.90714286 0.90142857\n",
      " 0.90714286 0.90857143 0.90571429 0.90571429 0.90857143 0.90857143\n",
      " 0.90714286 0.91       0.91142857 0.91       0.90857143 0.91142857\n",
      " 0.91142857 0.91285714 0.90571429 0.91142857 0.91428571 0.91714286\n",
      " 0.90857143 0.91428571 0.91285714 0.91285714 0.91       0.91714286\n",
      " 0.91142857 0.91571429 0.91285714 0.91714286]\n",
      "  warnings.warn(\n"
     ]
    },
    {
     "name": "stdout",
     "output_type": "stream",
     "text": [
      "0:\tlearn: 0.6749008\ttotal: 53.8ms\tremaining: 5.33s\n",
      "1:\tlearn: 0.6585933\ttotal: 55.9ms\tremaining: 2.74s\n",
      "2:\tlearn: 0.6428935\ttotal: 58.9ms\tremaining: 1.9s\n",
      "3:\tlearn: 0.6285031\ttotal: 61.4ms\tremaining: 1.47s\n",
      "4:\tlearn: 0.6121203\ttotal: 64.1ms\tremaining: 1.22s\n",
      "5:\tlearn: 0.5956805\ttotal: 66.2ms\tremaining: 1.04s\n",
      "6:\tlearn: 0.5813186\ttotal: 68ms\tremaining: 903ms\n",
      "7:\tlearn: 0.5668572\ttotal: 69.9ms\tremaining: 804ms\n",
      "8:\tlearn: 0.5530455\ttotal: 71.7ms\tremaining: 725ms\n",
      "9:\tlearn: 0.5409409\ttotal: 73.7ms\tremaining: 664ms\n",
      "10:\tlearn: 0.5285960\ttotal: 75.7ms\tremaining: 612ms\n",
      "11:\tlearn: 0.5168583\ttotal: 77.8ms\tremaining: 571ms\n",
      "12:\tlearn: 0.5049085\ttotal: 79.9ms\tremaining: 534ms\n",
      "13:\tlearn: 0.4960898\ttotal: 81.9ms\tremaining: 503ms\n",
      "14:\tlearn: 0.4866044\ttotal: 83.9ms\tremaining: 475ms\n",
      "15:\tlearn: 0.4757393\ttotal: 85.7ms\tremaining: 450ms\n",
      "16:\tlearn: 0.4668973\ttotal: 87.7ms\tremaining: 428ms\n",
      "17:\tlearn: 0.4579115\ttotal: 89.5ms\tremaining: 408ms\n",
      "18:\tlearn: 0.4491867\ttotal: 91.6ms\tremaining: 391ms\n",
      "19:\tlearn: 0.4413538\ttotal: 94ms\tremaining: 376ms\n",
      "20:\tlearn: 0.4327015\ttotal: 97ms\tremaining: 365ms\n",
      "21:\tlearn: 0.4251687\ttotal: 99.7ms\tremaining: 354ms\n",
      "22:\tlearn: 0.4190266\ttotal: 102ms\tremaining: 342ms\n",
      "23:\tlearn: 0.4116669\ttotal: 105ms\tremaining: 331ms\n",
      "24:\tlearn: 0.4052072\ttotal: 107ms\tremaining: 320ms\n",
      "25:\tlearn: 0.3986864\ttotal: 108ms\tremaining: 309ms\n",
      "26:\tlearn: 0.3914590\ttotal: 111ms\tremaining: 300ms\n",
      "27:\tlearn: 0.3856158\ttotal: 113ms\tremaining: 290ms\n",
      "28:\tlearn: 0.3794790\ttotal: 115ms\tremaining: 281ms\n",
      "29:\tlearn: 0.3740146\ttotal: 117ms\tremaining: 272ms\n",
      "30:\tlearn: 0.3685323\ttotal: 118ms\tremaining: 263ms\n",
      "31:\tlearn: 0.3625879\ttotal: 120ms\tremaining: 256ms\n",
      "32:\tlearn: 0.3581181\ttotal: 122ms\tremaining: 248ms\n",
      "33:\tlearn: 0.3525867\ttotal: 124ms\tremaining: 241ms\n",
      "34:\tlearn: 0.3476566\ttotal: 126ms\tremaining: 234ms\n",
      "35:\tlearn: 0.3426365\ttotal: 128ms\tremaining: 227ms\n",
      "36:\tlearn: 0.3377714\ttotal: 130ms\tremaining: 221ms\n",
      "37:\tlearn: 0.3330102\ttotal: 131ms\tremaining: 214ms\n",
      "38:\tlearn: 0.3281514\ttotal: 133ms\tremaining: 208ms\n",
      "39:\tlearn: 0.3240811\ttotal: 136ms\tremaining: 204ms\n",
      "40:\tlearn: 0.3201512\ttotal: 138ms\tremaining: 199ms\n",
      "41:\tlearn: 0.3161651\ttotal: 142ms\tremaining: 196ms\n",
      "42:\tlearn: 0.3124960\ttotal: 145ms\tremaining: 192ms\n",
      "43:\tlearn: 0.3086562\ttotal: 148ms\tremaining: 189ms\n",
      "44:\tlearn: 0.3044907\ttotal: 151ms\tremaining: 184ms\n",
      "45:\tlearn: 0.3005943\ttotal: 153ms\tremaining: 180ms\n",
      "46:\tlearn: 0.2968477\ttotal: 155ms\tremaining: 175ms\n",
      "47:\tlearn: 0.2934916\ttotal: 158ms\tremaining: 171ms\n",
      "48:\tlearn: 0.2900401\ttotal: 160ms\tremaining: 166ms\n",
      "49:\tlearn: 0.2864068\ttotal: 162ms\tremaining: 162ms\n",
      "50:\tlearn: 0.2830513\ttotal: 164ms\tremaining: 158ms\n",
      "51:\tlearn: 0.2797474\ttotal: 166ms\tremaining: 153ms\n",
      "52:\tlearn: 0.2768256\ttotal: 169ms\tremaining: 150ms\n",
      "53:\tlearn: 0.2740952\ttotal: 172ms\tremaining: 147ms\n",
      "54:\tlearn: 0.2713712\ttotal: 175ms\tremaining: 143ms\n",
      "55:\tlearn: 0.2683745\ttotal: 177ms\tremaining: 139ms\n",
      "56:\tlearn: 0.2654853\ttotal: 179ms\tremaining: 135ms\n",
      "57:\tlearn: 0.2627543\ttotal: 181ms\tremaining: 131ms\n",
      "58:\tlearn: 0.2599230\ttotal: 183ms\tremaining: 127ms\n",
      "59:\tlearn: 0.2571456\ttotal: 185ms\tremaining: 123ms\n",
      "60:\tlearn: 0.2546724\ttotal: 188ms\tremaining: 120ms\n",
      "61:\tlearn: 0.2522471\ttotal: 190ms\tremaining: 116ms\n",
      "62:\tlearn: 0.2497000\ttotal: 191ms\tremaining: 112ms\n",
      "63:\tlearn: 0.2473323\ttotal: 193ms\tremaining: 109ms\n",
      "64:\tlearn: 0.2447753\ttotal: 195ms\tremaining: 105ms\n",
      "65:\tlearn: 0.2423129\ttotal: 196ms\tremaining: 101ms\n",
      "66:\tlearn: 0.2398476\ttotal: 198ms\tremaining: 97.5ms\n",
      "67:\tlearn: 0.2375610\ttotal: 199ms\tremaining: 93.9ms\n",
      "68:\tlearn: 0.2356330\ttotal: 201ms\tremaining: 90.5ms\n",
      "69:\tlearn: 0.2337056\ttotal: 203ms\tremaining: 87.1ms\n",
      "70:\tlearn: 0.2314301\ttotal: 205ms\tremaining: 83.7ms\n",
      "71:\tlearn: 0.2294756\ttotal: 207ms\tremaining: 80.3ms\n",
      "72:\tlearn: 0.2271429\ttotal: 208ms\tremaining: 77ms\n",
      "73:\tlearn: 0.2247836\ttotal: 210ms\tremaining: 73.8ms\n",
      "74:\tlearn: 0.2230158\ttotal: 212ms\tremaining: 70.8ms\n",
      "75:\tlearn: 0.2211962\ttotal: 215ms\tremaining: 67.8ms\n",
      "76:\tlearn: 0.2190639\ttotal: 217ms\tremaining: 65ms\n",
      "77:\tlearn: 0.2172550\ttotal: 219ms\tremaining: 61.8ms\n",
      "78:\tlearn: 0.2152986\ttotal: 221ms\tremaining: 58.7ms\n",
      "79:\tlearn: 0.2133950\ttotal: 223ms\tremaining: 55.6ms\n",
      "80:\tlearn: 0.2114308\ttotal: 224ms\tremaining: 52.6ms\n",
      "81:\tlearn: 0.2100609\ttotal: 226ms\tremaining: 49.5ms\n",
      "82:\tlearn: 0.2086878\ttotal: 227ms\tremaining: 46.5ms\n",
      "83:\tlearn: 0.2067866\ttotal: 229ms\tremaining: 43.6ms\n",
      "84:\tlearn: 0.2048225\ttotal: 231ms\tremaining: 40.8ms\n",
      "85:\tlearn: 0.2031245\ttotal: 233ms\tremaining: 37.9ms\n",
      "86:\tlearn: 0.2017262\ttotal: 235ms\tremaining: 35.1ms\n",
      "87:\tlearn: 0.2001494\ttotal: 237ms\tremaining: 32.3ms\n",
      "88:\tlearn: 0.1987154\ttotal: 239ms\tremaining: 29.6ms\n",
      "89:\tlearn: 0.1975144\ttotal: 242ms\tremaining: 26.9ms\n",
      "90:\tlearn: 0.1960904\ttotal: 245ms\tremaining: 24.3ms\n",
      "91:\tlearn: 0.1948481\ttotal: 248ms\tremaining: 21.6ms\n",
      "92:\tlearn: 0.1932988\ttotal: 251ms\tremaining: 18.9ms\n",
      "93:\tlearn: 0.1920432\ttotal: 254ms\tremaining: 16.2ms\n",
      "94:\tlearn: 0.1906991\ttotal: 256ms\tremaining: 13.5ms\n",
      "95:\tlearn: 0.1891869\ttotal: 258ms\tremaining: 10.7ms\n",
      "96:\tlearn: 0.1877224\ttotal: 259ms\tremaining: 8.02ms\n",
      "97:\tlearn: 0.1865944\ttotal: 261ms\tremaining: 5.33ms\n",
      "98:\tlearn: 0.1854891\ttotal: 264ms\tremaining: 2.66ms\n",
      "99:\tlearn: 0.1839616\ttotal: 266ms\tremaining: 0us\n",
      " Results from Grid Search \n",
      "\n",
      " The best estimator across ALL searched params:\n",
      " <catboost.core.CatBoostClassifier object at 0x000002CC0C884C70>\n",
      "\n",
      " The best score across ALL searched params:\n",
      " 0.9228571428571428\n",
      "\n",
      " The best parameters across ALL searched params:\n",
      " {'depth': 6, 'iterations': 100, 'learning_rate': 0.04}\n"
     ]
    }
   ],
   "source": [
    "from catboost import CatBoostClassifier\n",
    "CBC = CatBoostClassifier()\n",
    "parameters = {'depth'         : [4,5,6,7,8,9, 10],\n",
    "              'learning_rate' : [0.01,0.02,0.03,0.04],\n",
    "              'iterations'    : [10, 20,30,40,50,60,70,80,90, 100]\n",
    "                 }\n",
    "Grid_CBC = GridSearchCV(estimator=CBC, param_grid = parameters, cv = 2, n_jobs=-1)\n",
    "Grid_CBC.fit(x_train, y_train)\n",
    "print(\" Results from Grid Search \" )\n",
    "print(\"\\n The best estimator across ALL searched params:\\n\",Grid_CBC.best_estimator_)\n",
    "print(\"\\n The best score across ALL searched params:\\n\",Grid_CBC.best_score_)\n",
    "print(\"\\n The best parameters across ALL searched params:\\n\",Grid_CBC.best_params_)"
   ]
  },
  {
   "cell_type": "code",
   "execution_count": 43,
   "id": "2850b414",
   "metadata": {},
   "outputs": [
    {
     "name": "stdout",
     "output_type": "stream",
     "text": [
      "0:\tlearn: 0.6749008\ttotal: 2.15ms\tremaining: 213ms\n",
      "1:\tlearn: 0.6585933\ttotal: 4.36ms\tremaining: 213ms\n",
      "2:\tlearn: 0.6428935\ttotal: 6.32ms\tremaining: 204ms\n",
      "3:\tlearn: 0.6285031\ttotal: 8.79ms\tremaining: 211ms\n",
      "4:\tlearn: 0.6121203\ttotal: 10.9ms\tremaining: 208ms\n",
      "5:\tlearn: 0.5956805\ttotal: 12.7ms\tremaining: 200ms\n",
      "6:\tlearn: 0.5813186\ttotal: 14.8ms\tremaining: 197ms\n",
      "7:\tlearn: 0.5668572\ttotal: 16.6ms\tremaining: 191ms\n",
      "8:\tlearn: 0.5530455\ttotal: 19.1ms\tremaining: 193ms\n",
      "9:\tlearn: 0.5409409\ttotal: 21.2ms\tremaining: 191ms\n",
      "10:\tlearn: 0.5285960\ttotal: 23.5ms\tremaining: 190ms\n",
      "11:\tlearn: 0.5168583\ttotal: 26.1ms\tremaining: 191ms\n",
      "12:\tlearn: 0.5049085\ttotal: 28.9ms\tremaining: 193ms\n",
      "13:\tlearn: 0.4960898\ttotal: 30.8ms\tremaining: 189ms\n",
      "14:\tlearn: 0.4866044\ttotal: 33.7ms\tremaining: 191ms\n",
      "15:\tlearn: 0.4757393\ttotal: 36.1ms\tremaining: 190ms\n",
      "16:\tlearn: 0.4668973\ttotal: 38.1ms\tremaining: 186ms\n",
      "17:\tlearn: 0.4579115\ttotal: 39.6ms\tremaining: 181ms\n",
      "18:\tlearn: 0.4491867\ttotal: 41.3ms\tremaining: 176ms\n",
      "19:\tlearn: 0.4413538\ttotal: 43.3ms\tremaining: 173ms\n",
      "20:\tlearn: 0.4327015\ttotal: 45.1ms\tremaining: 170ms\n",
      "21:\tlearn: 0.4251687\ttotal: 47.1ms\tremaining: 167ms\n",
      "22:\tlearn: 0.4190266\ttotal: 49.1ms\tremaining: 164ms\n",
      "23:\tlearn: 0.4116669\ttotal: 51ms\tremaining: 161ms\n",
      "24:\tlearn: 0.4052072\ttotal: 52.6ms\tremaining: 158ms\n",
      "25:\tlearn: 0.3986864\ttotal: 54.1ms\tremaining: 154ms\n",
      "26:\tlearn: 0.3914590\ttotal: 55.7ms\tremaining: 151ms\n",
      "27:\tlearn: 0.3856158\ttotal: 57.6ms\tremaining: 148ms\n",
      "28:\tlearn: 0.3794790\ttotal: 60ms\tremaining: 147ms\n",
      "29:\tlearn: 0.3740146\ttotal: 61.6ms\tremaining: 144ms\n",
      "30:\tlearn: 0.3685323\ttotal: 63.7ms\tremaining: 142ms\n",
      "31:\tlearn: 0.3625879\ttotal: 65.3ms\tremaining: 139ms\n",
      "32:\tlearn: 0.3581181\ttotal: 66.8ms\tremaining: 136ms\n",
      "33:\tlearn: 0.3525867\ttotal: 68.7ms\tremaining: 133ms\n",
      "34:\tlearn: 0.3476566\ttotal: 70.5ms\tremaining: 131ms\n",
      "35:\tlearn: 0.3426365\ttotal: 72.1ms\tremaining: 128ms\n",
      "36:\tlearn: 0.3377714\ttotal: 73.8ms\tremaining: 126ms\n",
      "37:\tlearn: 0.3330102\ttotal: 75.6ms\tremaining: 123ms\n",
      "38:\tlearn: 0.3281514\ttotal: 77.1ms\tremaining: 121ms\n",
      "39:\tlearn: 0.3240811\ttotal: 78.8ms\tremaining: 118ms\n",
      "40:\tlearn: 0.3201512\ttotal: 80.3ms\tremaining: 116ms\n",
      "41:\tlearn: 0.3161651\ttotal: 81.8ms\tremaining: 113ms\n",
      "42:\tlearn: 0.3124960\ttotal: 83.4ms\tremaining: 111ms\n",
      "43:\tlearn: 0.3086562\ttotal: 84.9ms\tremaining: 108ms\n",
      "44:\tlearn: 0.3044907\ttotal: 86.4ms\tremaining: 106ms\n",
      "45:\tlearn: 0.3005943\ttotal: 88ms\tremaining: 103ms\n",
      "46:\tlearn: 0.2968477\ttotal: 89.5ms\tremaining: 101ms\n",
      "47:\tlearn: 0.2934916\ttotal: 91ms\tremaining: 98.6ms\n",
      "48:\tlearn: 0.2900401\ttotal: 92.5ms\tremaining: 96.3ms\n",
      "49:\tlearn: 0.2864068\ttotal: 94.1ms\tremaining: 94.1ms\n",
      "50:\tlearn: 0.2830513\ttotal: 95.6ms\tremaining: 91.9ms\n",
      "51:\tlearn: 0.2797474\ttotal: 97.1ms\tremaining: 89.6ms\n",
      "52:\tlearn: 0.2768256\ttotal: 98.5ms\tremaining: 87.4ms\n",
      "53:\tlearn: 0.2740952\ttotal: 100ms\tremaining: 85.2ms\n",
      "54:\tlearn: 0.2713712\ttotal: 102ms\tremaining: 83.1ms\n",
      "55:\tlearn: 0.2683745\ttotal: 103ms\tremaining: 81ms\n",
      "56:\tlearn: 0.2654853\ttotal: 105ms\tremaining: 78.8ms\n",
      "57:\tlearn: 0.2627543\ttotal: 106ms\tremaining: 76.8ms\n",
      "58:\tlearn: 0.2599230\ttotal: 108ms\tremaining: 74.7ms\n",
      "59:\tlearn: 0.2571456\ttotal: 109ms\tremaining: 72.8ms\n",
      "60:\tlearn: 0.2546724\ttotal: 111ms\tremaining: 70.8ms\n",
      "61:\tlearn: 0.2522471\ttotal: 112ms\tremaining: 68.8ms\n",
      "62:\tlearn: 0.2497000\ttotal: 114ms\tremaining: 66.8ms\n",
      "63:\tlearn: 0.2473323\ttotal: 115ms\tremaining: 64.9ms\n",
      "64:\tlearn: 0.2447753\ttotal: 117ms\tremaining: 62.9ms\n",
      "65:\tlearn: 0.2423129\ttotal: 118ms\tremaining: 60.9ms\n",
      "66:\tlearn: 0.2398476\ttotal: 120ms\tremaining: 59ms\n",
      "67:\tlearn: 0.2375610\ttotal: 121ms\tremaining: 57ms\n",
      "68:\tlearn: 0.2356330\ttotal: 122ms\tremaining: 55ms\n",
      "69:\tlearn: 0.2337056\ttotal: 124ms\tremaining: 53.1ms\n",
      "70:\tlearn: 0.2314301\ttotal: 125ms\tremaining: 51.2ms\n",
      "71:\tlearn: 0.2294756\ttotal: 127ms\tremaining: 49.4ms\n",
      "72:\tlearn: 0.2271429\ttotal: 128ms\tremaining: 47.5ms\n",
      "73:\tlearn: 0.2247836\ttotal: 130ms\tremaining: 45.6ms\n",
      "74:\tlearn: 0.2230158\ttotal: 132ms\tremaining: 43.8ms\n",
      "75:\tlearn: 0.2211962\ttotal: 133ms\tremaining: 42ms\n",
      "76:\tlearn: 0.2190639\ttotal: 135ms\tremaining: 40.2ms\n",
      "77:\tlearn: 0.2172550\ttotal: 136ms\tremaining: 38.4ms\n",
      "78:\tlearn: 0.2152986\ttotal: 138ms\tremaining: 36.6ms\n",
      "79:\tlearn: 0.2133950\ttotal: 139ms\tremaining: 34.7ms\n",
      "80:\tlearn: 0.2114308\ttotal: 140ms\tremaining: 33ms\n",
      "81:\tlearn: 0.2100609\ttotal: 142ms\tremaining: 31.2ms\n",
      "82:\tlearn: 0.2086878\ttotal: 144ms\tremaining: 29.4ms\n",
      "83:\tlearn: 0.2067866\ttotal: 145ms\tremaining: 27.6ms\n",
      "84:\tlearn: 0.2048225\ttotal: 146ms\tremaining: 25.8ms\n",
      "85:\tlearn: 0.2031245\ttotal: 148ms\tremaining: 24.1ms\n",
      "86:\tlearn: 0.2017262\ttotal: 149ms\tremaining: 22.3ms\n",
      "87:\tlearn: 0.2001494\ttotal: 151ms\tremaining: 20.5ms\n",
      "88:\tlearn: 0.1987154\ttotal: 152ms\tremaining: 18.8ms\n",
      "89:\tlearn: 0.1975144\ttotal: 153ms\tremaining: 17.1ms\n",
      "90:\tlearn: 0.1960904\ttotal: 155ms\tremaining: 15.3ms\n",
      "91:\tlearn: 0.1948481\ttotal: 156ms\tremaining: 13.6ms\n",
      "92:\tlearn: 0.1932988\ttotal: 158ms\tremaining: 11.9ms\n",
      "93:\tlearn: 0.1920432\ttotal: 159ms\tremaining: 10.2ms\n",
      "94:\tlearn: 0.1906991\ttotal: 161ms\tremaining: 8.46ms\n",
      "95:\tlearn: 0.1891869\ttotal: 162ms\tremaining: 6.76ms\n",
      "96:\tlearn: 0.1877224\ttotal: 164ms\tremaining: 5.06ms\n",
      "97:\tlearn: 0.1865944\ttotal: 165ms\tremaining: 3.37ms\n",
      "98:\tlearn: 0.1854891\ttotal: 166ms\tremaining: 1.68ms\n",
      "99:\tlearn: 0.1839616\ttotal: 168ms\tremaining: 0us\n",
      "93.33333333333333\n",
      "[[144  12]\n",
      " [  8 136]]\n",
      "              precision    recall  f1-score   support\n",
      "\n",
      "           0       0.95      0.92      0.94       156\n",
      "           1       0.92      0.94      0.93       144\n",
      "\n",
      "    accuracy                           0.93       300\n",
      "   macro avg       0.93      0.93      0.93       300\n",
      "weighted avg       0.93      0.93      0.93       300\n",
      "\n"
     ]
    }
   ],
   "source": [
    "cbc = CatBoostClassifier(depth = 6,iterations = 100 ,learning_rate = 0.04)\n",
    "cbc.fit(x_train,y_train)\n",
    "y_pred = cbc.predict(x_test)\n",
    "print(accuracy_score(y_test,y_pred) * 100)\n",
    "print(confusion_matrix(y_test,y_pred))\n",
    "print(classification_report(y_test,y_pred))"
   ]
  },
  {
   "cell_type": "code",
   "execution_count": 44,
   "id": "001f0c86",
   "metadata": {},
   "outputs": [
    {
     "name": "stdout",
     "output_type": "stream",
     "text": [
      "Best score: 0.9242857142857142, Best params: {'learning_rate': 0.1, 'max_depth': 3, 'min_samples_leaf': 1, 'min_samples_split': 3, 'n_estimators': 300, 'random_state': 42}\n"
     ]
    }
   ],
   "source": [
    "from sklearn.ensemble import GradientBoostingClassifier\n",
    "gbr = GradientBoostingClassifier(random_state=42)\n",
    "gbr_params = {\n",
    "    'learning_rate': [0.01, 0.05, 0.1],\n",
    "    'n_estimators': [50, 80, 100, 200, 300],\n",
    "    'max_depth': [3, 5, 7, 9],\n",
    "    'min_samples_split': [2, 3, 4, 5],\n",
    "    'min_samples_leaf': [1, 2, 3, 5],\n",
    "    'random_state': [42]\n",
    "}\n",
    "\n",
    "gbr_search = GridSearchCV(gbr, param_grid=gbr_params, cv=5, scoring='accuracy', n_jobs=-1)\n",
    "gbr_search.fit(x_train, y_train)\n",
    "best_mse = gbr_search.best_score_\n",
    "best_rmse = best_mse\n",
    "\n",
    "print('Best score: {}, Best params: {}'.format(best_rmse, gbr_search.best_params_))"
   ]
  },
  {
   "cell_type": "code",
   "execution_count": 45,
   "id": "e6d6032d",
   "metadata": {},
   "outputs": [
    {
     "name": "stdout",
     "output_type": "stream",
     "text": [
      "94.33333333333334\n",
      "[[146  10]\n",
      " [  7 137]]\n",
      "              precision    recall  f1-score   support\n",
      "\n",
      "           0       0.95      0.94      0.94       156\n",
      "           1       0.93      0.95      0.94       144\n",
      "\n",
      "    accuracy                           0.94       300\n",
      "   macro avg       0.94      0.94      0.94       300\n",
      "weighted avg       0.94      0.94      0.94       300\n",
      "\n"
     ]
    }
   ],
   "source": [
    "gbr = GradientBoostingClassifier(learning_rate = 0.1, max_depth = 3, min_samples_leaf = 1, min_samples_split = 3, n_estimators = 300,random_state=42)\n",
    "gbr.fit(x_train,y_train)\n",
    "y_pred = gbr.predict(x_test)\n",
    "print(accuracy_score(y_test,y_pred) * 100)\n",
    "print(confusion_matrix(y_test,y_pred))\n",
    "print(classification_report(y_test,y_pred))"
   ]
  },
  {
   "cell_type": "code",
   "execution_count": 46,
   "id": "57658514",
   "metadata": {},
   "outputs": [
    {
     "name": "stdout",
     "output_type": "stream",
     "text": [
      "Best score: 0.9214285714285714, Best params: {'learning_rate': 0.05, 'max_depth': 3, 'n_estimators': 500, 'num_leaves': 25, 'random_state': 42}\n"
     ]
    }
   ],
   "source": [
    "from lightgbm import LGBMClassifier\n",
    "lgbm = LGBMClassifier(random_state=42)\n",
    "lgbm_params = {\n",
    "    'num_leaves': [25, 31, 35],\n",
    "    'learning_rate': [0.01, 0.05, 0.1, 0.5],\n",
    "    'n_estimators': [100, 300, 500, 1000],\n",
    "    'max_depth': [3, 7, 11],\n",
    "    'random_state': [42]\n",
    "}\n",
    "\n",
    "lgbm_search = GridSearchCV(lgbm, param_grid=lgbm_params, cv=5, scoring='accuracy', n_jobs=-1)\n",
    "lgbm_search.fit(x_train, y_train)\n",
    "best_mse = lgbm_search.best_score_\n",
    "best_rmse = best_mse\n",
    "\n",
    "print('Best score: {}, Best params: {}'.format(best_rmse, lgbm_search.best_params_))"
   ]
  },
  {
   "cell_type": "code",
   "execution_count": 47,
   "id": "7c2fe1f7",
   "metadata": {},
   "outputs": [
    {
     "name": "stdout",
     "output_type": "stream",
     "text": [
      "95.33333333333334\n",
      "[[148   8]\n",
      " [  6 138]]\n",
      "              precision    recall  f1-score   support\n",
      "\n",
      "           0       0.96      0.95      0.95       156\n",
      "           1       0.95      0.96      0.95       144\n",
      "\n",
      "    accuracy                           0.95       300\n",
      "   macro avg       0.95      0.95      0.95       300\n",
      "weighted avg       0.95      0.95      0.95       300\n",
      "\n"
     ]
    }
   ],
   "source": [
    "lgbm = LGBMClassifier(learning_rate = 0.05, max_depth = 3, n_estimators = 500, num_leaves = 25,random_state=42)\n",
    "lgbm.fit(x_train,y_train)\n",
    "y_pred = lgbm.predict(x_test)\n",
    "print(accuracy_score(y_test,y_pred) * 100)\n",
    "print(confusion_matrix(y_test,y_pred))\n",
    "print(classification_report(y_test,y_pred))"
   ]
  },
  {
   "cell_type": "code",
   "execution_count": 48,
   "id": "ed507df9",
   "metadata": {},
   "outputs": [
    {
     "name": "stdout",
     "output_type": "stream",
     "text": [
      "Best score: 0.9286, Best params: {'max_depth': 9, 'min_samples_leaf': 1, 'min_samples_split': 2, 'n_estimators': 500, 'random_state': 42}\n"
     ]
    }
   ],
   "source": [
    "from sklearn.ensemble import RandomForestClassifier\n",
    "rf = RandomForestClassifier()\n",
    "\n",
    "rf_params = {\n",
    "    'n_estimators': [100, 200, 300, 500],\n",
    "    'max_depth': [3, 5, 7, 9],\n",
    "    'min_samples_split': [2, 3, 4, 5],\n",
    "    'min_samples_leaf': [1, 2, 3, 5],\n",
    "    'random_state': [42]\n",
    "}\n",
    "\n",
    "rf_search = GridSearchCV(rf, param_grid=rf_params, cv=5, scoring='accuracy', n_jobs=-1)\n",
    "rf_search.fit(x_train, y_train)\n",
    "best_mse = rf_search.best_score_\n",
    "best_rmse = best_mse\n",
    "\n",
    "print('Best score: {}, Best params: {}'.format(round(best_rmse, 4), rf_search.best_params_))"
   ]
  },
  {
   "cell_type": "code",
   "execution_count": 49,
   "id": "00f698d7",
   "metadata": {},
   "outputs": [
    {
     "name": "stdout",
     "output_type": "stream",
     "text": [
      "94.33333333333334\n",
      "[[149   7]\n",
      " [ 10 134]]\n",
      "              precision    recall  f1-score   support\n",
      "\n",
      "           0       0.94      0.96      0.95       156\n",
      "           1       0.95      0.93      0.94       144\n",
      "\n",
      "    accuracy                           0.94       300\n",
      "   macro avg       0.94      0.94      0.94       300\n",
      "weighted avg       0.94      0.94      0.94       300\n",
      "\n"
     ]
    }
   ],
   "source": [
    "rf = RandomForestClassifier(max_depth = 9, min_samples_leaf = 1, min_samples_split = 2, n_estimators = 500, random_state = 42)\n",
    "rf.fit(x_train,y_train)\n",
    "y_pred = rf.predict(x_test)\n",
    "print(accuracy_score(y_test,y_pred) * 100)\n",
    "print(confusion_matrix(y_test,y_pred))\n",
    "print(classification_report(y_test,y_pred))"
   ]
  },
  {
   "cell_type": "code",
   "execution_count": 50,
   "id": "f7c333d5",
   "metadata": {},
   "outputs": [
    {
     "data": {
      "text/plain": [
       "['D:/projects/ML/Classified Data/scaler.h5']"
      ]
     },
     "execution_count": 50,
     "metadata": {},
     "output_type": "execute_result"
    }
   ],
   "source": [
    "import joblib \n",
    "joblib.dump(clf,'D:/projects/ML/Classified Data/model.h5')\n",
    "joblib.dump(scaler,'D:/projects/ML/Classified Data/scaler.h5')"
   ]
  },
  {
   "cell_type": "code",
   "execution_count": null,
   "id": "6a2a6ce9",
   "metadata": {},
   "outputs": [],
   "source": []
  }
 ],
 "metadata": {
  "kernelspec": {
   "display_name": "Python 3 (ipykernel)",
   "language": "python",
   "name": "python3"
  },
  "language_info": {
   "codemirror_mode": {
    "name": "ipython",
    "version": 3
   },
   "file_extension": ".py",
   "mimetype": "text/x-python",
   "name": "python",
   "nbconvert_exporter": "python",
   "pygments_lexer": "ipython3",
   "version": "3.9.7"
  }
 },
 "nbformat": 4,
 "nbformat_minor": 5
}
